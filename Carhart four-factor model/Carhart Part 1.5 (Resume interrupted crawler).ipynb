{
 "cells": [
  {
   "cell_type": "markdown",
   "id": "36158e76",
   "metadata": {},
   "source": [
    "# 此文件用于在Part 1提取大型数据部分，因为网络连接不稳定、IP地址被暂时封禁等原因导致数据获取中断、数据无法恢复、必须重启程序的情况。"
   ]
  },
  {
   "cell_type": "code",
   "execution_count": null,
   "id": "f8a70514",
   "metadata": {},
   "outputs": [],
   "source": [
    "# Run this document if you raised internet error when crawling the data.\n",
    "# Note that if no temporary data has been saved, then no need to run this document.\n",
    "\n",
    "import pandas as pd\n",
    "import akshare as ak\n",
    "import re\n",
    "import datetime\n",
    "import time"
   ]
  },
  {
   "cell_type": "code",
   "execution_count": null,
   "id": "57c1e3d4",
   "metadata": {},
   "outputs": [],
   "source": [
    "# 初始设置\n",
    "startDate, endDate = \"19950101\", \"20211231\"  # 时间区间\n",
    "\n",
    "# 检查时间区间是否有效\n",
    "if int(startDate) > int(endDate) or int(endDate) > datetime.date.today().year * 10000 + \\\n",
    "        datetime.date.today().month * 100 + datetime.date.today().day:\n",
    "    print(\"Invalid Time Interval\")\n",
    "    quit()"
   ]
  },
  {
   "cell_type": "code",
   "execution_count": null,
   "id": "445b2fcb",
   "metadata": {},
   "outputs": [],
   "source": [
    "# 将数据 index 的日期格式转换为 datetime.date\n",
    "def ParseDate(date) -> datetime.date:\n",
    "    date = list(map(int, re.findall(pattern=\"[0-9]+\", string=str(date))))\n",
    "    return datetime.date(date[0], date[1], date[2])"
   ]
  },
  {
   "cell_type": "code",
   "execution_count": null,
   "id": "5100833b",
   "metadata": {},
   "outputs": [],
   "source": [
    "# 加载临时数据\n",
    "close_df = pd.read_csv(\"C:\\\\Users\\\\asus\\\\Desktop\\\\Carhart\\\\HS300_temp_data\\\\close_temp.csv\",\n",
    "                       encoding=\"gbk\", index_col=\"trade_date\")\n",
    "return_df = pd.read_csv(\"C:\\\\Users\\\\asus\\\\Desktop\\\\Carhart\\\\HS300_temp_data\\\\return_temp.csv\",\n",
    "                        encoding=\"gbk\", index_col=\"trade_date\")\n",
    "BM_df = pd.read_csv(\"C:\\\\Users\\\\asus\\\\Desktop\\\\Carhart\\\\HS300_temp_data\\\\BM_temp.csv\",\n",
    "                    encoding=\"gbk\", index_col=\"trade_date\")\n",
    "MV_df = pd.read_csv(\"C:\\\\Users\\\\asus\\\\Desktop\\\\Carhart\\\\HS300_temp_data\\\\MV_temp.csv\",\n",
    "                    encoding=\"gbk\", index_col=\"trade_date\")\n",
    "\n",
    "# 调整数据类型与格式\n",
    "close_df.index = pd.Series(map(ParseDate, close_df.index), name=\"trade_date\")\n",
    "return_df.index = pd.Series(map(ParseDate, return_df.index), name=\"trade_date\")\n",
    "BM_df.index = pd.Series(map(ParseDate, BM_df.index), name=\"trade_date\")\n",
    "MV_df.index = pd.Series(map(ParseDate, MV_df.index), name=\"trade_date\")"
   ]
  },
  {
   "cell_type": "code",
   "execution_count": null,
   "id": "79e71d9b",
   "metadata": {},
   "outputs": [],
   "source": [
    "# 从本地加载交易日历\n",
    "calender = pd.read_csv(\"C:\\\\Users\\\\asus\\\\Desktop\\\\Carhart\\\\HS300_data\\\\calender.csv\")\n",
    "calender = pd.Series(map(lambda x: datetime.date(int(x[0:4]), int(x[5:7]), int(x[8:])),\n",
    "                         calender[\"trade_date\"].values), index=list(calender.iloc[:, 0]), name=\"trade_date\")"
   ]
  },
  {
   "cell_type": "code",
   "execution_count": null,
   "id": "21ac6a0a",
   "metadata": {},
   "outputs": [],
   "source": [
    "# 从本地加载 exceptionLst\n",
    "exceptionLst = pd.read_csv(\"C:\\\\Users\\\\asus\\\\Desktop\\\\Carhart\\\\HS300_temp_data\\\\exceptionLst.csv\")\n",
    "exceptionLst = list(map(lambda x: (int(re.findall(\"([0-9]+),\", x)[0]), re.findall(\"\\'([0-9]+)\\'\", x)[0]),\n",
    "                        exceptionLst.iloc[:, 0]))"
   ]
  },
  {
   "cell_type": "code",
   "execution_count": null,
   "id": "18293b06",
   "metadata": {},
   "outputs": [],
   "source": [
    "# 得到所有沪深300成分股或A股成分股的代码\n",
    "def GetCodeLst(fromWhat: str) -> list:\n",
    "    if fromWhat == \"HS300\":\n",
    "        hs300_Stocks = pd.read_csv(\"C:\\\\Users\\\\asus\\\\Desktop\\\\Carhart\\\\HS300_data\\\\hs300_stocks.csv\",\n",
    "                                   encoding=\"gbk\").set_index(\"code\")\n",
    "        return list(map(lambda x: re.search(pattern=\"[0-9]+\", string=x).group(),\n",
    "                        list(hs300_Stocks.index)))\n",
    "\n",
    "    elif fromWhat == \"A\":\n",
    "        return list(ak.stock_info_sh_name_code(indicator=\"主板A股\")[\"代码\"]) + \\\n",
    "               list(ak.stock_info_sh_name_code(indicator=\"科创板\")[\"代码\"]) + \\\n",
    "               list(ak.stock_info_sz_name_code(indicator=\"A股列表\")[\"A股代码\"])"
   ]
  },
  {
   "cell_type": "markdown",
   "id": "cc8a8627",
   "metadata": {},
   "source": [
    "# 设置使用HS300指数还是A股 !"
   ]
  },
  {
   "cell_type": "code",
   "execution_count": null,
   "id": "539e3fd2",
   "metadata": {},
   "outputs": [],
   "source": [
    "codeLst = GetCodeLst(fromWhat=\"A\")"
   ]
  },
  {
   "cell_type": "code",
   "execution_count": null,
   "id": "5de8a1bb",
   "metadata": {},
   "outputs": [],
   "source": [
    "# 用以将日期格式转换为 datetime.date\n",
    "def ParseDate(date: str) -> datetime.date:\n",
    "    date = list(map(int, re.findall(pattern=\"[0-9]+\", string=str(date))))\n",
    "    return datetime.date(date[0], date[1], date[2])"
   ]
  },
  {
   "cell_type": "markdown",
   "id": "6903ec94",
   "metadata": {},
   "source": [
    "# 从断点处（上一个保存点）处重启。\n",
    "# 注意此处需要根据先前打印的日志，手动输入what_now的值。"
   ]
  },
  {
   "cell_type": "code",
   "execution_count": null,
   "id": "6dc68beb",
   "metadata": {},
   "outputs": [],
   "source": [
    "# what_now的取值为上一个保存点的进度 + 1\n",
    "what_now, failure, maximum_failure_allowed, length = 1201, 0, 3, len(codeLst)\n",
    "print(f\"Data of {length} stocks in total need to be collected, waiting......\")\n",
    "while what_now < length:\n",
    "    code = codeLst[what_now]\n",
    "\n",
    "    try:\n",
    "        # 获取个股自 1995-01-01 至 2021-12-31 的收盘价与涨跌幅(日频)\n",
    "        this_stock_hist_daily = ak.stock_zh_a_hist(symbol=code, period=\"daily\",\n",
    "                                                   start_date=startDate, end_date=endDate,\n",
    "                                                   adjust=\"hfq\")[[\"日期\", \"收盘\", \"涨跌幅\"]].set_index(\"日期\")\n",
    "\n",
    "        # 获取个股自 1995-01-01 至 2021-12-31 的市净率与总市值(日频)\n",
    "        this_stock_BMMV_daily = \\\n",
    "            ak.stock_a_lg_indicator(symbol=code)[[\"trade_date\", \"pb\", \"total_mv\"]].set_index(\"trade_date\")\n",
    "\n",
    "        # index格式全部转换为datetime\n",
    "        this_stock_hist_daily.index = map(ParseDate, list(this_stock_hist_daily.index))\n",
    "        this_stock_BMMV_daily.index = map(ParseDate, list(this_stock_BMMV_daily.index))\n",
    "\n",
    "        # (获取数据)成功则清零failure\n",
    "        failure = 0\n",
    "\n",
    "        # 尝试合并数据\n",
    "        try:\n",
    "            close_df[code] = this_stock_hist_daily[\"收盘\"]\n",
    "            return_df[code] = this_stock_hist_daily[\"涨跌幅\"]\n",
    "            BM_df[code] = 1 / this_stock_BMMV_daily[\"pb\"]  # 账面市值比BM与市净率互为倒数\n",
    "            MV_df[code] = this_stock_BMMV_daily[\"total_mv\"]\n",
    "\n",
    "            # 报告数据获取且合并成功\n",
    "            print(f\"{what_now}/{length}. Data collected and merged for code: {code}\")\n",
    "\n",
    "        except:\n",
    "            # 报告数据合并失败\n",
    "            print(f\"{what_now}/{length}. Met an unknown error when merging data of code: {code}\")\n",
    "            exceptionLst.append((what_now, code))\n",
    "\n",
    "        # 每获取100组数据，就及时写入csv临时文件\n",
    "        if what_now % 100 == 0:\n",
    "            # 写临时文件\n",
    "            close_df.to_csv(\"C:\\\\Users\\\\asus\\\\Desktop\\\\Carhart\\\\HS300_temp_data\\\\close_temp.csv\",\n",
    "                            index=True, header=True)\n",
    "            return_df.to_csv(\"C:\\\\Users\\\\asus\\\\Desktop\\\\Carhart\\\\HS300_temp_data\\\\return_temp.csv\",\n",
    "                             index=True, header=True)\n",
    "            BM_df.to_csv(\"C:\\\\Users\\\\asus\\\\Desktop\\\\Carhart\\\\HS300_temp_data\\\\BM_temp.csv\", index=True,\n",
    "                         header=True)\n",
    "            MV_df.to_csv(\"C:\\\\Users\\\\asus\\\\Desktop\\\\Carhart\\\\HS300_temp_data\\\\MV_temp.csv\", index=True,\n",
    "                         header=True)\n",
    "\n",
    "            if len(exceptionLst) != 0:\n",
    "                pd.Series(exceptionLst).to_csv(\n",
    "                    \"C:\\\\Users\\\\asus\\\\Desktop\\\\Carhart\\\\HS300_temp_data\\\\calender.csv\", \n",
    "                    index=False, header=True)\n",
    "\n",
    "            # 打印当前备份保存情况\n",
    "            print(f\"Temporary file is saved at: {code}. Position is: {what_now}\")\n",
    "\n",
    "        # 每30组数据暂停45秒\n",
    "        if what_now % 30 == 0:\n",
    "            # 暂停45秒\n",
    "            print(\"Resuming in 45 seconds......\")\n",
    "            time.sleep(45)\n",
    "\n",
    "        what_now += 1\n",
    "\n",
    "    except:\n",
    "        # 报告数据获取失败，打印当前错误位置或断电，反馈连续错误次数\n",
    "        failure += 1\n",
    "        print(f\"{what_now}/{length}. Problem encountered at code: {code}. Failure = {failure}\")\n",
    "\n",
    "        if failure > maximum_failure_allowed:\n",
    "            break  # 错误过多直接退出\n",
    "        else:\n",
    "            print(f\"Retrying in {60 * failure} seconds......\")\n",
    "            time.sleep(60 * failure)  # 睡眠 1-3 分钟\n",
    "            continue\n",
    "\n",
    "\n",
    "# 若 while loop 未曾中断，则写入csv最终文件\n",
    "else:\n",
    "    close_df.to_csv(\"C:\\\\Users\\\\asus\\\\Desktop\\\\Carhart\\\\HS300_data\\\\close.csv\", index=True, header=True)\n",
    "    return_df.to_csv(\"C:\\\\Users\\\\asus\\\\Desktop\\\\Carhart\\\\HS300_data\\\\return.csv\", index=True, header=True)\n",
    "    BM_df.to_csv(\"C:\\\\Users\\\\asus\\\\Desktop\\\\Carhart\\\\HS300_data\\\\BM.csv\", index=True, header=True)\n",
    "    MV_df.to_csv(\"C:\\\\Users\\\\asus\\\\Desktop\\\\Carhart\\\\HS300_data\\\\MV.csv\", index=True, header=True)\n",
    "\n",
    "    # 判断 exceptionLst 是否为空\n",
    "    if len(exceptionLst) == 0:\n",
    "        print(\"All data are collected and merged successfully\")\n",
    "    else:\n",
    "        print(\"exceptionLst is not empty: failed to merge some data\")"
   ]
  }
 ],
 "metadata": {
  "kernelspec": {
   "display_name": "Python 3 (ipykernel)",
   "language": "python",
   "name": "python3"
  },
  "language_info": {
   "codemirror_mode": {
    "name": "ipython",
    "version": 3
   },
   "file_extension": ".py",
   "mimetype": "text/x-python",
   "name": "python",
   "nbconvert_exporter": "python",
   "pygments_lexer": "ipython3",
   "version": "3.9.12"
  },
  "toc": {
   "base_numbering": 1,
   "nav_menu": {},
   "number_sections": false,
   "sideBar": true,
   "skip_h1_title": false,
   "title_cell": "Table of Contents",
   "title_sidebar": "Contents",
   "toc_cell": false,
   "toc_position": {
    "height": "calc(100% - 180px)",
    "left": "10px",
    "top": "150px",
    "width": "245.76px"
   },
   "toc_section_display": true,
   "toc_window_display": false
  },
  "varInspector": {
   "cols": {
    "lenName": 16,
    "lenType": 16,
    "lenVar": 40
   },
   "kernels_config": {
    "python": {
     "delete_cmd_postfix": "",
     "delete_cmd_prefix": "del ",
     "library": "var_list.py",
     "varRefreshCmd": "print(var_dic_list())"
    },
    "r": {
     "delete_cmd_postfix": ") ",
     "delete_cmd_prefix": "rm(",
     "library": "var_list.r",
     "varRefreshCmd": "cat(var_dic_list()) "
    }
   },
   "types_to_exclude": [
    "module",
    "function",
    "builtin_function_or_method",
    "instance",
    "_Feature"
   ],
   "window_display": false
  }
 },
 "nbformat": 4,
 "nbformat_minor": 5
}
