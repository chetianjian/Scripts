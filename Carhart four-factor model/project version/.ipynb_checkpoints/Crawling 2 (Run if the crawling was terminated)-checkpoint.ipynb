{
 "cells": [
  {
   "cell_type": "markdown",
   "id": "36158e76",
   "metadata": {},
   "source": [
    "# This file is used when we met discontinuities in the part of data crawling, to restart the crawling process from the last checkpoint."
   ]
  },
  {
   "cell_type": "code",
   "execution_count": null,
   "id": "f8a70514",
   "metadata": {},
   "outputs": [],
   "source": [
    "# Run this document if you raised internet error when crawling the data.\n",
    "# Note that if no temporary data has been saved, then no need to run this document.\n",
    "\n",
    "import pandas as pd\n",
    "import akshare as ak\n",
    "import re\n",
    "import datetime\n",
    "import time"
   ]
  },
  {
   "cell_type": "code",
   "execution_count": null,
   "id": "57c1e3d4",
   "metadata": {},
   "outputs": [],
   "source": [
    "startDate, endDate = \"19950101\", \"20211231\" \n",
    "\n",
    "if int(startDate) > int(endDate) or int(endDate) > datetime.date.today().year * 10000 + \\\n",
    "        datetime.date.today().month * 100 + datetime.date.today().day:\n",
    "    print(\"Invalid Time Interval\")\n",
    "    quit()"
   ]
  },
  {
   "cell_type": "code",
   "execution_count": null,
   "id": "445b2fcb",
   "metadata": {},
   "outputs": [],
   "source": [
    "def ParseDate(date) -> datetime.date:\n",
    "    date = list(map(int, re.findall(pattern=\"[0-9]+\", string=str(date))))\n",
    "    return datetime.date(date[0], date[1], date[2])"
   ]
  },
  {
   "cell_type": "code",
   "execution_count": null,
   "id": "5100833b",
   "metadata": {},
   "outputs": [],
   "source": [
    "close_df = pd.read_csv(\"C:\\\\Users\\\\tianj\\\\Project 1\\\\data\\\\HS300_temp_data\\\\close_temp.csv\",\n",
    "                       encoding=\"gbk\", index_col=\"trade_date\")\n",
    "return_df = pd.read_csv(\"C:\\\\Users\\\\tianj\\\\Project 1\\\\data\\\\HS300_temp_data\\\\return_temp.csv\",\n",
    "                        encoding=\"gbk\", index_col=\"trade_date\")\n",
    "BM_df = pd.read_csv(\"C:\\\\Users\\\\tianj\\\\Project 1\\\\data\\\\HS300_temp_data\\\\BM_temp.csv\",\n",
    "                    encoding=\"gbk\", index_col=\"trade_date\")\n",
    "MV_df = pd.read_csv(\"C:\\\\Users\\\\tianj\\\\Project 1\\\\data\\\\HS300_temp_data\\\\MV_temp.csv\",\n",
    "                    encoding=\"gbk\", index_col=\"trade_date\")\n",
    "\n",
    "close_df.index = pd.Series(map(ParseDate, close_df.index), name=\"trade_date\")\n",
    "return_df.index = pd.Series(map(ParseDate, return_df.index), name=\"trade_date\")\n",
    "BM_df.index = pd.Series(map(ParseDate, BM_df.index), name=\"trade_date\")\n",
    "MV_df.index = pd.Series(map(ParseDate, MV_df.index), name=\"trade_date\")"
   ]
  },
  {
   "cell_type": "code",
   "execution_count": null,
   "id": "79e71d9b",
   "metadata": {},
   "outputs": [],
   "source": [
    "calender = pd.read_csv(\"C:\\\\Users\\\\tianj\\\\Project 1\\\\data\\\\HS300_data\\\\calender.csv\")\n",
    "calender = pd.Series(map(lambda x: datetime.date(int(x[0:4]), int(x[5:7]), int(x[8:])),\n",
    "                         calender[\"trade_date\"].values), index=list(calender.iloc[:, 0]), name=\"trade_date\")"
   ]
  },
  {
   "cell_type": "code",
   "execution_count": null,
   "id": "21ac6a0a",
   "metadata": {},
   "outputs": [],
   "source": [
    "exceptionLst = pd.read_csv(\"C:\\\\Users\\\\tianj\\\\Project 1\\\\data\\\\HS300_temp_data\\\\exceptionLst.csv\")\n",
    "exceptionLst = list(map(lambda x: (int(re.findall(\"([0-9]+),\", x)[0]), re.findall(\"\\'([0-9]+)\\'\", x)[0]),\n",
    "                        exceptionLst.iloc[:, 0]))"
   ]
  },
  {
   "cell_type": "code",
   "execution_count": null,
   "id": "18293b06",
   "metadata": {},
   "outputs": [],
   "source": [
    "def GetCodeLst(fromWhat: str) -> list:\n",
    "    if fromWhat == \"HS300\":\n",
    "        hs300_Stocks = pd.read_csv(\"C:\\\\Users\\\\tianj\\\\Project 1\\\\data\\\\HS300_data\\\\hs300_stocks.csv\",\n",
    "                                   encoding=\"gbk\").set_index(\"code\")\n",
    "        return list(map(lambda x: re.search(pattern=\"[0-9]+\", string=x).group(),\n",
    "                        list(hs300_Stocks.index)))\n",
    "\n",
    "    elif fromWhat == \"A\":\n",
    "        return list(ak.stock_info_sh_name_code(indicator=\"主板A股\")[\"代码\"]) + \\\n",
    "               list(ak.stock_info_sh_name_code(indicator=\"科创板\")[\"代码\"]) + \\\n",
    "               list(ak.stock_info_sz_name_code(indicator=\"A股列表\")[\"A股代码\"])\n",
    "\n"
   ]
  },
  {
   "cell_type": "code",
   "execution_count": null,
   "id": "539e3fd2",
   "metadata": {},
   "outputs": [],
   "source": [
    "codeLst = GetCodeLst(fromWhat=\"A\")"
   ]
  },
  {
   "cell_type": "code",
   "execution_count": null,
   "id": "5de8a1bb",
   "metadata": {},
   "outputs": [],
   "source": [
    "def ParseDate(date: str) -> datetime.date:\n",
    "    date = list(map(int, re.findall(pattern=\"[0-9]+\", string=str(date))))\n",
    "    return datetime.date(date[0], date[1], date[2])"
   ]
  },
  {
   "cell_type": "markdown",
   "id": "6903ec94",
   "metadata": {},
   "source": [
    "# Restart from the last checkpoint.\n",
    "# Noted that a manual input of checkpoint (value of what_now) is required."
   ]
  },
  {
   "cell_type": "code",
   "execution_count": null,
   "id": "6dc68beb",
   "metadata": {},
   "outputs": [],
   "source": [
    "# what_now should be the value of last checkpoint + 1 \n",
    "what_now, failure, maximum_failure_allowed, length = 1201, 0, 3, len(codeLst)\n",
    "print(f\"Data of {length} stocks in total need to be collected, waiting......\")\n",
    "while what_now < length:\n",
    "    code = codeLst[what_now]\n",
    "\n",
    "    try:\n",
    "        this_stock_hist_daily = ak.stock_zh_a_hist(symbol=code, period=\"daily\",\n",
    "                                                   start_date=startDate, end_date=endDate,\n",
    "                                                   adjust=\"hfq\")[[\"日期\", \"收盘\", \"涨跌幅\"]].set_index(\"日期\")\n",
    "\n",
    "        this_stock_BMMV_daily = \\\n",
    "            ak.stock_a_lg_indicator(symbol=code)[[\"trade_date\", \"pb\", \"total_mv\"]].set_index(\"trade_date\")\n",
    "\n",
    "        this_stock_hist_daily.index = map(ParseDate, list(this_stock_hist_daily.index))\n",
    "        this_stock_BMMV_daily.index = map(ParseDate, list(this_stock_BMMV_daily.index))\n",
    "\n",
    "        failure = 0\n",
    "\n",
    "        try:\n",
    "            close_df[code] = this_stock_hist_daily[\"收盘\"]\n",
    "            return_df[code] = this_stock_hist_daily[\"涨跌幅\"]\n",
    "            BM_df[code] = 1 / this_stock_BMMV_daily[\"pb\"]\n",
    "            MV_df[code] = this_stock_BMMV_daily[\"total_mv\"]\n",
    "\n",
    "            print(f\"{what_now}/{length}. Data collected and merged for code: {code}\")\n",
    "\n",
    "        except:\n",
    "            print(f\"{what_now}/{length}. Met an unknown error when merging data of code: {code}\")\n",
    "            exceptionLst.append((what_now, code))\n",
    "\n",
    "        if what_now % 100 == 0:\n",
    "            close_df.to_csv(\"C:\\\\Users\\\\tianj\\\\Project 1\\\\data\\\\HS300_temp_data\\\\close_temp.csv\",\n",
    "                            index=True, header=True)\n",
    "            return_df.to_csv(\"C:\\\\Users\\\\tianj\\\\Project 1\\\\data\\\\HS300_temp_data\\\\return_temp.csv\",\n",
    "                             index=True, header=True)\n",
    "            BM_df.to_csv(\"C:\\\\Users\\\\tianj\\\\Project 1\\\\data\\\\HS300_temp_data\\\\BM_temp.csv\", index=True,\n",
    "                         header=True)\n",
    "            MV_df.to_csv(\"C:\\\\Users\\\\tianj\\\\Project 1\\\\data\\\\HS300_temp_data\\\\MV_temp.csv\", index=True,\n",
    "                         header=True)\n",
    "\n",
    "            if len(exceptionLst) != 0:\n",
    "                pd.Series(exceptionLst).to_csv(\n",
    "                    \"C:\\\\Users\\\\tianj\\\\Project 1\\\\data\\\\HS300_temp_data\\\\calender.csv\", \n",
    "                    index=False, header=True)\n",
    "\n",
    "            print(f\"Temporary file is saved at: {code}. Position is: {what_now}\")\n",
    "\n",
    "        if what_now % 30 == 0:\n",
    "            print(\"Resuming in 45 seconds......\")\n",
    "            time.sleep(45)\n",
    "\n",
    "        what_now += 1\n",
    "\n",
    "    except:\n",
    "        failure += 1\n",
    "        print(f\"{what_now}/{length}. Problem encountered at code: {code}. Failure = {failure}\")\n",
    "\n",
    "        if failure > maximum_failure_allowed:\n",
    "            break\n",
    "        else:\n",
    "            print(f\"Retrying in {60 * failure} seconds......\")\n",
    "            time.sleep(60 * failure)\n",
    "            continue\n",
    "\n",
    "\n",
    "else:\n",
    "    close_df.to_csv(\"C:\\\\Users\\\\tianj\\\\Project 1\\\\data\\\\HS300_data\\\\close.csv\", index=True, header=True)\n",
    "    return_df.to_csv(\"C:\\\\Users\\\\tianj\\\\Project 1\\\\data\\\\HS300_data\\\\return.csv\", index=True, header=True)\n",
    "    BM_df.to_csv(\"C:\\\\Users\\\\tianj\\\\Project 1\\\\data\\\\HS300_data\\\\BM.csv\", index=True, header=True)\n",
    "    MV_df.to_csv(\"C:\\\\Users\\\\tianj\\\\Project 1\\\\data\\\\HS300_data\\\\MV.csv\", index=True, header=True)\n",
    "\n",
    "    if len(exceptionLst) == 0:\n",
    "        print(\"All data are collected and merged successfully\")\n",
    "    else:\n",
    "        print(\"exceptionLst is not empty: failed to merge some data\")\n"
   ]
  }
 ],
 "metadata": {
  "kernelspec": {
   "display_name": "Python 3 (ipykernel)",
   "language": "python",
   "name": "python3"
  },
  "language_info": {
   "codemirror_mode": {
    "name": "ipython",
    "version": 3
   },
   "file_extension": ".py",
   "mimetype": "text/x-python",
   "name": "python",
   "nbconvert_exporter": "python",
   "pygments_lexer": "ipython3",
   "version": "3.9.12"
  },
  "toc": {
   "base_numbering": 1,
   "nav_menu": {},
   "number_sections": false,
   "sideBar": true,
   "skip_h1_title": false,
   "title_cell": "Table of Contents",
   "title_sidebar": "Contents",
   "toc_cell": false,
   "toc_position": {
    "height": "calc(100% - 180px)",
    "left": "10px",
    "top": "150px",
    "width": "245.758px"
   },
   "toc_section_display": true,
   "toc_window_display": false
  },
  "varInspector": {
   "cols": {
    "lenName": 16,
    "lenType": 16,
    "lenVar": 40
   },
   "kernels_config": {
    "python": {
     "delete_cmd_postfix": "",
     "delete_cmd_prefix": "del ",
     "library": "var_list.py",
     "varRefreshCmd": "print(var_dic_list())"
    },
    "r": {
     "delete_cmd_postfix": ") ",
     "delete_cmd_prefix": "rm(",
     "library": "var_list.r",
     "varRefreshCmd": "cat(var_dic_list()) "
    }
   },
   "types_to_exclude": [
    "module",
    "function",
    "builtin_function_or_method",
    "instance",
    "_Feature"
   ],
   "window_display": false
  }
 },
 "nbformat": 4,
 "nbformat_minor": 5
}
