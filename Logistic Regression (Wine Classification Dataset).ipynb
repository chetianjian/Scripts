{
 "cells": [
  {
   "cell_type": "code",
   "execution_count": 1,
   "id": "cd5a7d51",
   "metadata": {
    "ExecuteTime": {
     "end_time": "2022-06-05T06:23:07.417961Z",
     "start_time": "2022-06-05T06:23:05.975532Z"
    }
   },
   "outputs": [],
   "source": [
    "import numpy as np\n",
    "import pandas as pd\n",
    "import math\n",
    "import matplotlib.pyplot as plt\n",
    "from sklearn.linear_model import LogisticRegression\n",
    "from sklearn.model_selection import train_test_split\n",
    "from itertools import combinations"
   ]
  },
  {
   "cell_type": "code",
   "execution_count": 2,
   "id": "a4afe845",
   "metadata": {
    "ExecuteTime": {
     "end_time": "2022-06-05T06:23:07.448965Z",
     "start_time": "2022-06-05T06:23:07.419960Z"
    },
    "scrolled": true
   },
   "outputs": [
    {
     "data": {
      "text/html": [
       "<div>\n",
       "<style scoped>\n",
       "    .dataframe tbody tr th:only-of-type {\n",
       "        vertical-align: middle;\n",
       "    }\n",
       "\n",
       "    .dataframe tbody tr th {\n",
       "        vertical-align: top;\n",
       "    }\n",
       "\n",
       "    .dataframe thead th {\n",
       "        text-align: right;\n",
       "    }\n",
       "</style>\n",
       "<table border=\"1\" class=\"dataframe\">\n",
       "  <thead>\n",
       "    <tr style=\"text-align: right;\">\n",
       "      <th></th>\n",
       "      <th>fixed.acidity</th>\n",
       "      <th>volatile.acidity</th>\n",
       "      <th>citric.acid</th>\n",
       "      <th>residual.sugar</th>\n",
       "      <th>chlorides</th>\n",
       "      <th>free.sulfur.dioxide</th>\n",
       "      <th>total.sulfur.dioxide</th>\n",
       "      <th>density</th>\n",
       "      <th>pH</th>\n",
       "      <th>sulphates</th>\n",
       "      <th>alcohol</th>\n",
       "      <th>quality</th>\n",
       "      <th>wine</th>\n",
       "    </tr>\n",
       "  </thead>\n",
       "  <tbody>\n",
       "    <tr>\n",
       "      <th>0</th>\n",
       "      <td>6.2</td>\n",
       "      <td>0.28</td>\n",
       "      <td>0.33</td>\n",
       "      <td>1.7</td>\n",
       "      <td>0.029</td>\n",
       "      <td>24.0</td>\n",
       "      <td>111.0</td>\n",
       "      <td>0.99000</td>\n",
       "      <td>3.24</td>\n",
       "      <td>0.50</td>\n",
       "      <td>12.1</td>\n",
       "      <td>6</td>\n",
       "      <td>white</td>\n",
       "    </tr>\n",
       "    <tr>\n",
       "      <th>1</th>\n",
       "      <td>6.2</td>\n",
       "      <td>0.33</td>\n",
       "      <td>0.19</td>\n",
       "      <td>5.6</td>\n",
       "      <td>0.042</td>\n",
       "      <td>22.0</td>\n",
       "      <td>143.0</td>\n",
       "      <td>0.99425</td>\n",
       "      <td>3.15</td>\n",
       "      <td>0.63</td>\n",
       "      <td>9.9</td>\n",
       "      <td>5</td>\n",
       "      <td>white</td>\n",
       "    </tr>\n",
       "    <tr>\n",
       "      <th>2</th>\n",
       "      <td>7.0</td>\n",
       "      <td>0.32</td>\n",
       "      <td>0.24</td>\n",
       "      <td>6.2</td>\n",
       "      <td>0.048</td>\n",
       "      <td>31.0</td>\n",
       "      <td>228.0</td>\n",
       "      <td>0.99570</td>\n",
       "      <td>3.23</td>\n",
       "      <td>0.62</td>\n",
       "      <td>9.4</td>\n",
       "      <td>6</td>\n",
       "      <td>white</td>\n",
       "    </tr>\n",
       "    <tr>\n",
       "      <th>3</th>\n",
       "      <td>10.4</td>\n",
       "      <td>0.64</td>\n",
       "      <td>0.24</td>\n",
       "      <td>2.8</td>\n",
       "      <td>0.105</td>\n",
       "      <td>29.0</td>\n",
       "      <td>53.0</td>\n",
       "      <td>0.99980</td>\n",
       "      <td>3.24</td>\n",
       "      <td>0.67</td>\n",
       "      <td>9.9</td>\n",
       "      <td>5</td>\n",
       "      <td>red</td>\n",
       "    </tr>\n",
       "    <tr>\n",
       "      <th>4</th>\n",
       "      <td>6.2</td>\n",
       "      <td>0.28</td>\n",
       "      <td>0.27</td>\n",
       "      <td>10.3</td>\n",
       "      <td>0.030</td>\n",
       "      <td>26.0</td>\n",
       "      <td>108.0</td>\n",
       "      <td>0.99388</td>\n",
       "      <td>3.20</td>\n",
       "      <td>0.36</td>\n",
       "      <td>10.7</td>\n",
       "      <td>6</td>\n",
       "      <td>white</td>\n",
       "    </tr>\n",
       "  </tbody>\n",
       "</table>\n",
       "</div>"
      ],
      "text/plain": [
       "   fixed.acidity  volatile.acidity  citric.acid  residual.sugar  chlorides  \\\n",
       "0            6.2              0.28         0.33             1.7      0.029   \n",
       "1            6.2              0.33         0.19             5.6      0.042   \n",
       "2            7.0              0.32         0.24             6.2      0.048   \n",
       "3           10.4              0.64         0.24             2.8      0.105   \n",
       "4            6.2              0.28         0.27            10.3      0.030   \n",
       "\n",
       "   free.sulfur.dioxide  total.sulfur.dioxide  density    pH  sulphates  \\\n",
       "0                 24.0                 111.0  0.99000  3.24       0.50   \n",
       "1                 22.0                 143.0  0.99425  3.15       0.63   \n",
       "2                 31.0                 228.0  0.99570  3.23       0.62   \n",
       "3                 29.0                  53.0  0.99980  3.24       0.67   \n",
       "4                 26.0                 108.0  0.99388  3.20       0.36   \n",
       "\n",
       "   alcohol  quality   wine  \n",
       "0     12.1        6  white  \n",
       "1      9.9        5  white  \n",
       "2      9.4        6  white  \n",
       "3      9.9        5    red  \n",
       "4     10.7        6  white  "
      ]
     },
     "execution_count": 2,
     "metadata": {},
     "output_type": "execute_result"
    }
   ],
   "source": [
    "# Import the Wine quality.csv dataset.\n",
    "wine = pd.read_csv(\"C:\\\\Users\\\\tianj\\\\LSE Machine Learning\\\\Module 2\\\\Wine quality.csv\")\n",
    "wine.head()"
   ]
  },
  {
   "cell_type": "code",
   "execution_count": 3,
   "id": "ef2f3976",
   "metadata": {
    "ExecuteTime": {
     "end_time": "2022-06-05T06:23:07.464468Z",
     "start_time": "2022-06-05T06:23:07.450465Z"
    }
   },
   "outputs": [],
   "source": [
    "white = wine[wine[\"wine\"] == \"white\"][[\"fixed.acidity\", \"pH\"]]\n",
    "red = wine[wine[\"wine\"] == \"red\"][[\"fixed.acidity\", \"pH\"]]"
   ]
  },
  {
   "cell_type": "code",
   "execution_count": 4,
   "id": "35b344c4",
   "metadata": {
    "ExecuteTime": {
     "end_time": "2022-06-05T06:23:07.634999Z",
     "start_time": "2022-06-05T06:23:07.466468Z"
    }
   },
   "outputs": [
    {
     "data": {
      "image/png": "[encoded data removed]",
      "text/plain": [
       "<Figure size 432x288 with 1 Axes>"
      ]
     },
     "metadata": {
      "needs_background": "light"
     },
     "output_type": "display_data"
    }
   ],
   "source": [
    "plt.scatter(x=\"pH\", y=\"fixed.acidity\", data=wine, c=wine[\"wine\"]==\"red\")\n",
    "plt.ylabel(\"fixed.acidity\")\n",
    "plt.xlabel(\"pH\")\n",
    "plt.show()"
   ]
  },
  {
   "cell_type": "code",
   "execution_count": 5,
   "id": "174cd363",
   "metadata": {
    "ExecuteTime": {
     "end_time": "2022-06-05T06:23:07.650502Z",
     "start_time": "2022-06-05T06:23:07.637000Z"
    }
   },
   "outputs": [],
   "source": [
    "[train, test] = train_test_split(wine, train_size=0.85, test_size=0.15)\n",
    "\n",
    "X_train, y_train = train.iloc[:, :train.shape[1]-1].values, train[\"wine\"]\n",
    "X_test, y_test = test.iloc[:, :test.shape[1]-1].values, test[\"wine\"]"
   ]
  },
  {
   "cell_type": "code",
   "execution_count": 6,
   "id": "1ccb1aa3",
   "metadata": {
    "ExecuteTime": {
     "end_time": "2022-06-05T06:23:07.666004Z",
     "start_time": "2022-06-05T06:23:07.652002Z"
    }
   },
   "outputs": [],
   "source": [
    "LR_1 = LogisticRegression(penalty=\"l1\", solver=\"saga\", max_iter=10000)  # LASSO regularization\n",
    "LR_2 = LogisticRegression(penalty=\"l2\", max_iter=10000)  # Ridge regularization\n",
    "LR_elasticnet = LogisticRegression(penalty=\"elasticnet\", solver=\"saga\", l1_ratio=0.66, max_iter=10000) # Elastic regularization\n",
    "LR_none = LogisticRegression(penalty=\"none\", max_iter=10000) # Wihthout regularization"
   ]
  },
  {
   "cell_type": "code",
   "execution_count": 7,
   "id": "2289b4cf",
   "metadata": {
    "ExecuteTime": {
     "end_time": "2022-06-05T06:23:19.680598Z",
     "start_time": "2022-06-05T06:23:07.667505Z"
    }
   },
   "outputs": [
    {
     "data": {
      "text/plain": [
       "LogisticRegression(max_iter=10000, penalty='none')"
      ]
     },
     "execution_count": 7,
     "metadata": {},
     "output_type": "execute_result"
    }
   ],
   "source": [
    "LR_1.fit(X=X_train, y=y_train) # LASSO regularization\n",
    "LR_2.fit(X=X_train, y=y_train) # Ridge regularization\n",
    "LR_elasticnet.fit(X=X_train, y=y_train) # Elastic regularization\n",
    "LR_none.fit(X=X_train, y=y_train) # Wihthout regularization"
   ]
  },
  {
   "cell_type": "code",
   "execution_count": 8,
   "id": "45533c87",
   "metadata": {
    "ExecuteTime": {
     "end_time": "2022-06-05T06:23:19.696101Z",
     "start_time": "2022-06-05T06:23:19.682598Z"
    }
   },
   "outputs": [],
   "source": [
    "predict_1 = LR_1.predict(X_test)\n",
    "predict_2 = LR_2.predict(X_test)\n",
    "predict_elasticnet = LR_elasticnet.predict(X_test)\n",
    "predict_none= LR_none.predict(X_test)"
   ]
  },
  {
   "cell_type": "code",
   "execution_count": 9,
   "id": "4a3aa979",
   "metadata": {
    "ExecuteTime": {
     "end_time": "2022-06-05T06:23:19.711605Z",
     "start_time": "2022-06-05T06:23:19.697601Z"
    }
   },
   "outputs": [],
   "source": [
    "result_1 = sum(predict_1 == y_test) / len(y_test)\n",
    "result_2 = sum(predict_2 == y_test) / len(y_test)\n",
    "result_elasticnet = sum(predict_elasticnet == y_test) / len(y_test)\n",
    "result_none = sum(predict_none == y_test) / len(y_test)"
   ]
  },
  {
   "cell_type": "code",
   "execution_count": 10,
   "id": "badb6ac3",
   "metadata": {
    "ExecuteTime": {
     "end_time": "2022-06-05T06:23:19.727106Z",
     "start_time": "2022-06-05T06:23:19.714104Z"
    },
    "scrolled": true
   },
   "outputs": [
    {
     "data": {
      "text/plain": [
       "LASSO      0.972308\n",
       "Ridge      0.985641\n",
       "Elastic    0.972308\n",
       "None       0.988718\n",
       "dtype: float64"
      ]
     },
     "execution_count": 10,
     "metadata": {},
     "output_type": "execute_result"
    }
   ],
   "source": [
    "pd.Series({\"LASSO\": result_1, \"Ridge\": result_2, \"Elastic\": result_elasticnet, \"None\": result_none})"
   ]
  },
  {
   "cell_type": "code",
   "execution_count": 11,
   "id": "994cfb2d",
   "metadata": {
    "ExecuteTime": {
     "end_time": "2022-06-05T06:27:03.089525Z",
     "start_time": "2022-06-05T06:23:19.728607Z"
    },
    "scrolled": false
   },
   "outputs": [
    {
     "name": "stdout",
     "output_type": "stream",
     "text": [
      "('citric.acid', 'residual.sugar', 'chlorides', 'total.sulfur.dioxide', 'density') 0.9907692307692307\n",
      "('citric.acid', 'residual.sugar', 'total.sulfur.dioxide', 'density', 'sulphates') 0.9907692307692307\n",
      "('citric.acid', 'residual.sugar', 'total.sulfur.dioxide', 'density', 'alcohol') 0.9917948717948718\n",
      "('residual.sugar', 'chlorides', 'total.sulfur.dioxide', 'density', 'sulphates') 0.9907692307692307\n",
      "('residual.sugar', 'chlorides', 'total.sulfur.dioxide', 'density', 'alcohol') 0.9907692307692307\n",
      "('residual.sugar', 'free.sulfur.dioxide', 'total.sulfur.dioxide', 'density', 'alcohol') 0.9907692307692307\n",
      "('residual.sugar', 'total.sulfur.dioxide', 'density', 'pH', 'alcohol') 0.9907692307692307\n",
      "('residual.sugar', 'total.sulfur.dioxide', 'density', 'alcohol', 'quality') 0.9907692307692307\n",
      "('fixed.acidity', 'volatile.acidity', 'residual.sugar', 'total.sulfur.dioxide', 'density', 'alcohol') 0.9917948717948718\n",
      "('fixed.acidity', 'citric.acid', 'residual.sugar', 'chlorides', 'total.sulfur.dioxide', 'density') 0.9907692307692307\n",
      "('fixed.acidity', 'citric.acid', 'residual.sugar', 'total.sulfur.dioxide', 'density', 'sulphates') 0.9917948717948718\n",
      "('fixed.acidity', 'citric.acid', 'residual.sugar', 'total.sulfur.dioxide', 'density', 'quality') 0.9907692307692307\n",
      "('fixed.acidity', 'residual.sugar', 'chlorides', 'total.sulfur.dioxide', 'density', 'sulphates') 0.9907692307692307\n",
      "('fixed.acidity', 'residual.sugar', 'chlorides', 'total.sulfur.dioxide', 'density', 'quality') 0.9907692307692307\n",
      "('fixed.acidity', 'residual.sugar', 'free.sulfur.dioxide', 'total.sulfur.dioxide', 'density', 'alcohol') 0.9938461538461538\n",
      "('fixed.acidity', 'residual.sugar', 'free.sulfur.dioxide', 'total.sulfur.dioxide', 'density', 'quality') 0.9907692307692307\n",
      "('fixed.acidity', 'residual.sugar', 'total.sulfur.dioxide', 'density', 'pH', 'alcohol') 0.9917948717948718\n",
      "('fixed.acidity', 'residual.sugar', 'total.sulfur.dioxide', 'density', 'sulphates', 'alcohol') 0.9928205128205129\n",
      "('fixed.acidity', 'residual.sugar', 'total.sulfur.dioxide', 'density', 'alcohol', 'quality') 0.9917948717948718\n",
      "('volatile.acidity', 'citric.acid', 'residual.sugar', 'chlorides', 'density', 'alcohol') 0.9907692307692307\n",
      "('volatile.acidity', 'citric.acid', 'residual.sugar', 'total.sulfur.dioxide', 'density', 'alcohol') 0.9917948717948718\n",
      "('volatile.acidity', 'residual.sugar', 'chlorides', 'total.sulfur.dioxide', 'density', 'alcohol') 0.9917948717948718\n",
      "('volatile.acidity', 'residual.sugar', 'chlorides', 'total.sulfur.dioxide', 'density', 'quality') 0.9907692307692307\n",
      "('volatile.acidity', 'residual.sugar', 'free.sulfur.dioxide', 'total.sulfur.dioxide', 'density', 'alcohol') 0.9917948717948718\n",
      "('volatile.acidity', 'residual.sugar', 'total.sulfur.dioxide', 'density', 'pH', 'sulphates') 0.9907692307692307\n",
      "('volatile.acidity', 'residual.sugar', 'total.sulfur.dioxide', 'density', 'pH', 'alcohol') 0.9917948717948718\n",
      "('volatile.acidity', 'residual.sugar', 'total.sulfur.dioxide', 'density', 'sulphates', 'quality') 0.9917948717948718\n",
      "('volatile.acidity', 'residual.sugar', 'total.sulfur.dioxide', 'density', 'alcohol', 'quality') 0.9917948717948718\n",
      "('citric.acid', 'residual.sugar', 'chlorides', 'free.sulfur.dioxide', 'total.sulfur.dioxide', 'density') 0.9917948717948718\n",
      "('citric.acid', 'residual.sugar', 'chlorides', 'total.sulfur.dioxide', 'density', 'sulphates') 0.9917948717948718\n",
      "('citric.acid', 'residual.sugar', 'chlorides', 'total.sulfur.dioxide', 'density', 'alcohol') 0.9948717948717949\n",
      "('citric.acid', 'residual.sugar', 'chlorides', 'total.sulfur.dioxide', 'density', 'quality') 0.9907692307692307\n",
      "('citric.acid', 'residual.sugar', 'free.sulfur.dioxide', 'total.sulfur.dioxide', 'density', 'alcohol') 0.9938461538461538\n",
      "('citric.acid', 'residual.sugar', 'total.sulfur.dioxide', 'density', 'pH', 'sulphates') 0.9907692307692307\n",
      "('citric.acid', 'residual.sugar', 'total.sulfur.dioxide', 'density', 'pH', 'alcohol') 0.9917948717948718\n",
      "('citric.acid', 'residual.sugar', 'total.sulfur.dioxide', 'density', 'sulphates', 'quality') 0.9907692307692307\n",
      "('citric.acid', 'residual.sugar', 'total.sulfur.dioxide', 'density', 'alcohol', 'quality') 0.9948717948717949\n",
      "('residual.sugar', 'chlorides', 'free.sulfur.dioxide', 'total.sulfur.dioxide', 'density', 'sulphates') 0.9917948717948718\n",
      "('residual.sugar', 'chlorides', 'free.sulfur.dioxide', 'total.sulfur.dioxide', 'density', 'quality') 0.9907692307692307\n",
      "('residual.sugar', 'chlorides', 'total.sulfur.dioxide', 'density', 'pH', 'sulphates') 0.9907692307692307\n",
      "('residual.sugar', 'chlorides', 'total.sulfur.dioxide', 'density', 'pH', 'alcohol') 0.9917948717948718\n",
      "('residual.sugar', 'chlorides', 'total.sulfur.dioxide', 'density', 'sulphates', 'alcohol') 0.9907692307692307\n",
      "('residual.sugar', 'chlorides', 'total.sulfur.dioxide', 'density', 'sulphates', 'quality') 0.9917948717948718\n",
      "('residual.sugar', 'chlorides', 'total.sulfur.dioxide', 'density', 'alcohol', 'quality') 0.9907692307692307\n",
      "('residual.sugar', 'free.sulfur.dioxide', 'total.sulfur.dioxide', 'density', 'pH', 'alcohol') 0.9907692307692307\n",
      "('residual.sugar', 'free.sulfur.dioxide', 'total.sulfur.dioxide', 'density', 'sulphates', 'alcohol') 0.9917948717948718\n",
      "('residual.sugar', 'free.sulfur.dioxide', 'total.sulfur.dioxide', 'density', 'alcohol', 'quality') 0.9907692307692307\n",
      "('residual.sugar', 'total.sulfur.dioxide', 'density', 'pH', 'sulphates', 'alcohol') 0.9907692307692307\n",
      "('residual.sugar', 'total.sulfur.dioxide', 'density', 'pH', 'alcohol', 'quality') 0.9907692307692307\n",
      "('fixed.acidity', 'volatile.acidity', 'citric.acid', 'residual.sugar', 'chlorides', 'density', 'alcohol') 0.9907692307692307\n",
      "('fixed.acidity', 'volatile.acidity', 'citric.acid', 'residual.sugar', 'total.sulfur.dioxide', 'density', 'alcohol') 0.9917948717948718\n",
      "('fixed.acidity', 'volatile.acidity', 'citric.acid', 'residual.sugar', 'density', 'pH', 'alcohol') 0.9907692307692307\n",
      "('fixed.acidity', 'volatile.acidity', 'residual.sugar', 'free.sulfur.dioxide', 'total.sulfur.dioxide', 'density', 'sulphates') 0.9907692307692307\n",
      "('fixed.acidity', 'volatile.acidity', 'residual.sugar', 'free.sulfur.dioxide', 'total.sulfur.dioxide', 'density', 'alcohol') 0.9928205128205129\n",
      "('fixed.acidity', 'volatile.acidity', 'residual.sugar', 'total.sulfur.dioxide', 'density', 'sulphates', 'quality') 0.9917948717948718\n",
      "('fixed.acidity', 'volatile.acidity', 'residual.sugar', 'total.sulfur.dioxide', 'density', 'alcohol', 'quality') 0.9917948717948718\n",
      "('fixed.acidity', 'volatile.acidity', 'chlorides', 'free.sulfur.dioxide', 'total.sulfur.dioxide', 'pH', 'sulphates') 0.9907692307692307\n",
      "('fixed.acidity', 'citric.acid', 'residual.sugar', 'chlorides', 'free.sulfur.dioxide', 'total.sulfur.dioxide', 'density') 0.9917948717948718\n",
      "('fixed.acidity', 'citric.acid', 'residual.sugar', 'chlorides', 'total.sulfur.dioxide', 'density', 'sulphates') 0.9917948717948718\n",
      "('fixed.acidity', 'citric.acid', 'residual.sugar', 'chlorides', 'total.sulfur.dioxide', 'density', 'alcohol') 0.9948717948717949\n",
      "('fixed.acidity', 'citric.acid', 'residual.sugar', 'chlorides', 'total.sulfur.dioxide', 'density', 'quality') 0.9917948717948718\n",
      "('fixed.acidity', 'citric.acid', 'residual.sugar', 'free.sulfur.dioxide', 'total.sulfur.dioxide', 'density', 'alcohol') 0.9938461538461538\n",
      "('fixed.acidity', 'citric.acid', 'residual.sugar', 'total.sulfur.dioxide', 'density', 'pH', 'sulphates') 0.9907692307692307\n",
      "('fixed.acidity', 'citric.acid', 'residual.sugar', 'total.sulfur.dioxide', 'density', 'sulphates', 'quality') 0.9907692307692307\n",
      "('fixed.acidity', 'citric.acid', 'residual.sugar', 'total.sulfur.dioxide', 'density', 'alcohol', 'quality') 0.9938461538461538\n",
      "('fixed.acidity', 'residual.sugar', 'chlorides', 'free.sulfur.dioxide', 'total.sulfur.dioxide', 'density', 'alcohol') 0.9948717948717949\n",
      "('fixed.acidity', 'residual.sugar', 'chlorides', 'free.sulfur.dioxide', 'total.sulfur.dioxide', 'density', 'quality') 0.9907692307692307\n",
      "('fixed.acidity', 'residual.sugar', 'chlorides', 'total.sulfur.dioxide', 'density', 'pH', 'alcohol') 0.9928205128205129\n",
      "('fixed.acidity', 'residual.sugar', 'chlorides', 'total.sulfur.dioxide', 'density', 'sulphates', 'alcohol') 0.9928205128205129\n",
      "('fixed.acidity', 'residual.sugar', 'chlorides', 'total.sulfur.dioxide', 'density', 'sulphates', 'quality') 0.9917948717948718\n",
      "('fixed.acidity', 'residual.sugar', 'chlorides', 'total.sulfur.dioxide', 'density', 'alcohol', 'quality') 0.9938461538461538\n"
     ]
    },
    {
     "name": "stdout",
     "output_type": "stream",
     "text": [
      "('fixed.acidity', 'residual.sugar', 'free.sulfur.dioxide', 'total.sulfur.dioxide', 'density', 'pH', 'alcohol') 0.9938461538461538\n",
      "('fixed.acidity', 'residual.sugar', 'free.sulfur.dioxide', 'total.sulfur.dioxide', 'density', 'sulphates', 'alcohol') 0.9938461538461538\n",
      "('fixed.acidity', 'residual.sugar', 'free.sulfur.dioxide', 'total.sulfur.dioxide', 'density', 'alcohol', 'quality') 0.9938461538461538\n",
      "('fixed.acidity', 'residual.sugar', 'total.sulfur.dioxide', 'density', 'pH', 'alcohol', 'quality') 0.9917948717948718\n",
      "('fixed.acidity', 'residual.sugar', 'total.sulfur.dioxide', 'density', 'sulphates', 'alcohol', 'quality') 0.9928205128205129\n",
      "('volatile.acidity', 'citric.acid', 'residual.sugar', 'chlorides', 'free.sulfur.dioxide', 'density', 'alcohol') 0.9907692307692307\n",
      "('volatile.acidity', 'citric.acid', 'residual.sugar', 'chlorides', 'total.sulfur.dioxide', 'density', 'sulphates') 0.9917948717948718\n",
      "('volatile.acidity', 'citric.acid', 'residual.sugar', 'chlorides', 'total.sulfur.dioxide', 'density', 'alcohol') 0.9917948717948718\n",
      "('volatile.acidity', 'citric.acid', 'residual.sugar', 'chlorides', 'total.sulfur.dioxide', 'density', 'quality') 0.9907692307692307\n",
      "('volatile.acidity', 'citric.acid', 'residual.sugar', 'chlorides', 'density', 'pH', 'alcohol') 0.9907692307692307\n",
      "('volatile.acidity', 'citric.acid', 'residual.sugar', 'chlorides', 'density', 'sulphates', 'alcohol') 0.9907692307692307\n",
      "('volatile.acidity', 'citric.acid', 'residual.sugar', 'chlorides', 'density', 'alcohol', 'quality') 0.9917948717948718\n",
      "('volatile.acidity', 'citric.acid', 'residual.sugar', 'free.sulfur.dioxide', 'total.sulfur.dioxide', 'density', 'alcohol') 0.9928205128205129\n",
      "('volatile.acidity', 'citric.acid', 'residual.sugar', 'total.sulfur.dioxide', 'density', 'pH', 'alcohol') 0.9917948717948718\n",
      "('volatile.acidity', 'citric.acid', 'residual.sugar', 'total.sulfur.dioxide', 'density', 'pH', 'quality') 0.9907692307692307\n",
      "('volatile.acidity', 'citric.acid', 'residual.sugar', 'total.sulfur.dioxide', 'density', 'sulphates', 'alcohol') 0.9928205128205129\n",
      "('volatile.acidity', 'citric.acid', 'residual.sugar', 'total.sulfur.dioxide', 'density', 'sulphates', 'quality') 0.9917948717948718\n",
      "('volatile.acidity', 'citric.acid', 'residual.sugar', 'total.sulfur.dioxide', 'density', 'alcohol', 'quality') 0.9917948717948718\n",
      "('volatile.acidity', 'residual.sugar', 'chlorides', 'free.sulfur.dioxide', 'total.sulfur.dioxide', 'density', 'sulphates') 0.9907692307692307\n",
      "('volatile.acidity', 'residual.sugar', 'chlorides', 'free.sulfur.dioxide', 'total.sulfur.dioxide', 'density', 'alcohol') 0.9917948717948718\n",
      "('volatile.acidity', 'residual.sugar', 'chlorides', 'total.sulfur.dioxide', 'density', 'pH', 'alcohol') 0.9917948717948718\n",
      "('volatile.acidity', 'residual.sugar', 'chlorides', 'total.sulfur.dioxide', 'density', 'pH', 'quality') 0.9907692307692307\n",
      "('volatile.acidity', 'residual.sugar', 'chlorides', 'total.sulfur.dioxide', 'density', 'alcohol', 'quality') 0.9928205128205129\n",
      "('volatile.acidity', 'residual.sugar', 'free.sulfur.dioxide', 'total.sulfur.dioxide', 'density', 'pH', 'alcohol') 0.9917948717948718\n",
      "('volatile.acidity', 'residual.sugar', 'free.sulfur.dioxide', 'total.sulfur.dioxide', 'density', 'sulphates', 'alcohol') 0.9917948717948718\n",
      "('volatile.acidity', 'residual.sugar', 'free.sulfur.dioxide', 'total.sulfur.dioxide', 'density', 'sulphates', 'quality') 0.9907692307692307\n",
      "('volatile.acidity', 'residual.sugar', 'free.sulfur.dioxide', 'total.sulfur.dioxide', 'density', 'alcohol', 'quality') 0.9907692307692307\n",
      "('volatile.acidity', 'residual.sugar', 'total.sulfur.dioxide', 'density', 'pH', 'sulphates', 'alcohol') 0.9928205128205129\n",
      "('volatile.acidity', 'residual.sugar', 'total.sulfur.dioxide', 'density', 'pH', 'sulphates', 'quality') 0.9907692307692307\n",
      "('volatile.acidity', 'residual.sugar', 'total.sulfur.dioxide', 'density', 'pH', 'alcohol', 'quality') 0.9917948717948718\n",
      "('citric.acid', 'residual.sugar', 'chlorides', 'free.sulfur.dioxide', 'total.sulfur.dioxide', 'density', 'sulphates') 0.9917948717948718\n",
      "('citric.acid', 'residual.sugar', 'chlorides', 'free.sulfur.dioxide', 'total.sulfur.dioxide', 'density', 'alcohol') 0.9948717948717949\n",
      "('citric.acid', 'residual.sugar', 'chlorides', 'free.sulfur.dioxide', 'total.sulfur.dioxide', 'density', 'quality') 0.9917948717948718\n",
      "('citric.acid', 'residual.sugar', 'chlorides', 'total.sulfur.dioxide', 'density', 'pH', 'sulphates') 0.9928205128205129\n",
      "('citric.acid', 'residual.sugar', 'chlorides', 'total.sulfur.dioxide', 'density', 'pH', 'alcohol') 0.9948717948717949\n",
      "('citric.acid', 'residual.sugar', 'chlorides', 'total.sulfur.dioxide', 'density', 'sulphates', 'alcohol') 0.9948717948717949\n",
      "('citric.acid', 'residual.sugar', 'chlorides', 'total.sulfur.dioxide', 'density', 'sulphates', 'quality') 0.9938461538461538\n",
      "('citric.acid', 'residual.sugar', 'free.sulfur.dioxide', 'total.sulfur.dioxide', 'density', 'pH', 'alcohol') 0.9938461538461538\n",
      "('citric.acid', 'residual.sugar', 'free.sulfur.dioxide', 'total.sulfur.dioxide', 'density', 'sulphates', 'alcohol') 0.9948717948717949\n",
      "('citric.acid', 'residual.sugar', 'free.sulfur.dioxide', 'total.sulfur.dioxide', 'density', 'sulphates', 'quality') 0.9907692307692307\n",
      "('citric.acid', 'residual.sugar', 'free.sulfur.dioxide', 'total.sulfur.dioxide', 'density', 'alcohol', 'quality') 0.9938461538461538\n",
      "('citric.acid', 'residual.sugar', 'total.sulfur.dioxide', 'density', 'pH', 'sulphates', 'alcohol') 0.9938461538461538\n",
      "('citric.acid', 'residual.sugar', 'total.sulfur.dioxide', 'density', 'pH', 'sulphates', 'quality') 0.9917948717948718\n",
      "('citric.acid', 'residual.sugar', 'total.sulfur.dioxide', 'density', 'pH', 'alcohol', 'quality') 0.9948717948717949\n",
      "('citric.acid', 'chlorides', 'total.sulfur.dioxide', 'density', 'pH', 'sulphates', 'alcohol') 0.9907692307692307\n",
      "('residual.sugar', 'chlorides', 'free.sulfur.dioxide', 'total.sulfur.dioxide', 'density', 'pH', 'sulphates') 0.9917948717948718\n",
      "('residual.sugar', 'chlorides', 'free.sulfur.dioxide', 'total.sulfur.dioxide', 'density', 'pH', 'alcohol') 0.9917948717948718\n",
      "('residual.sugar', 'chlorides', 'free.sulfur.dioxide', 'total.sulfur.dioxide', 'density', 'sulphates', 'alcohol') 0.9917948717948718\n",
      "('residual.sugar', 'chlorides', 'free.sulfur.dioxide', 'total.sulfur.dioxide', 'density', 'sulphates', 'quality') 0.9917948717948718\n",
      "('residual.sugar', 'chlorides', 'free.sulfur.dioxide', 'total.sulfur.dioxide', 'density', 'alcohol', 'quality') 0.9928205128205129\n",
      "('residual.sugar', 'chlorides', 'total.sulfur.dioxide', 'density', 'pH', 'sulphates', 'alcohol') 0.9917948717948718\n",
      "('residual.sugar', 'chlorides', 'total.sulfur.dioxide', 'density', 'pH', 'sulphates', 'quality') 0.9907692307692307\n",
      "('residual.sugar', 'chlorides', 'total.sulfur.dioxide', 'density', 'pH', 'alcohol', 'quality') 0.9928205128205129\n",
      "('residual.sugar', 'chlorides', 'total.sulfur.dioxide', 'density', 'sulphates', 'alcohol', 'quality') 0.9917948717948718\n",
      "('residual.sugar', 'free.sulfur.dioxide', 'total.sulfur.dioxide', 'density', 'pH', 'sulphates', 'alcohol') 0.9917948717948718\n",
      "('residual.sugar', 'free.sulfur.dioxide', 'total.sulfur.dioxide', 'density', 'pH', 'alcohol', 'quality') 0.9907692307692307\n",
      "('residual.sugar', 'free.sulfur.dioxide', 'total.sulfur.dioxide', 'density', 'sulphates', 'alcohol', 'quality') 0.9917948717948718\n",
      "('residual.sugar', 'total.sulfur.dioxide', 'density', 'pH', 'sulphates', 'alcohol', 'quality') 0.9907692307692307\n",
      "('fixed.acidity', 'volatile.acidity', 'citric.acid', 'residual.sugar', 'chlorides', 'free.sulfur.dioxide', 'density', 'alcohol') 0.9907692307692307\n",
      "('fixed.acidity', 'volatile.acidity', 'citric.acid', 'residual.sugar', 'chlorides', 'total.sulfur.dioxide', 'density', 'sulphates') 0.9928205128205129\n",
      "('fixed.acidity', 'volatile.acidity', 'citric.acid', 'residual.sugar', 'chlorides', 'density', 'pH', 'alcohol') 0.9907692307692307\n",
      "('fixed.acidity', 'volatile.acidity', 'citric.acid', 'residual.sugar', 'chlorides', 'density', 'sulphates', 'alcohol') 0.9907692307692307\n",
      "('fixed.acidity', 'volatile.acidity', 'citric.acid', 'residual.sugar', 'chlorides', 'density', 'alcohol', 'quality') 0.9917948717948718\n",
      "('fixed.acidity', 'volatile.acidity', 'citric.acid', 'residual.sugar', 'free.sulfur.dioxide', 'total.sulfur.dioxide', 'density', 'sulphates') 0.9907692307692307\n",
      "('fixed.acidity', 'volatile.acidity', 'citric.acid', 'residual.sugar', 'free.sulfur.dioxide', 'total.sulfur.dioxide', 'density', 'alcohol') 0.9928205128205129\n"
     ]
    },
    {
     "name": "stdout",
     "output_type": "stream",
     "text": [
      "('fixed.acidity', 'volatile.acidity', 'citric.acid', 'residual.sugar', 'total.sulfur.dioxide', 'density', 'sulphates', 'alcohol') 0.9928205128205129\n",
      "('fixed.acidity', 'volatile.acidity', 'citric.acid', 'residual.sugar', 'total.sulfur.dioxide', 'density', 'sulphates', 'quality') 0.9917948717948718\n",
      "('fixed.acidity', 'volatile.acidity', 'citric.acid', 'residual.sugar', 'density', 'pH', 'alcohol', 'quality') 0.9917948717948718\n",
      "('fixed.acidity', 'volatile.acidity', 'citric.acid', 'residual.sugar', 'density', 'sulphates', 'alcohol', 'quality') 0.9907692307692307\n",
      "('fixed.acidity', 'volatile.acidity', 'residual.sugar', 'chlorides', 'free.sulfur.dioxide', 'total.sulfur.dioxide', 'density', 'sulphates') 0.9907692307692307\n",
      "('fixed.acidity', 'volatile.acidity', 'residual.sugar', 'chlorides', 'free.sulfur.dioxide', 'total.sulfur.dioxide', 'density', 'alcohol') 0.9907692307692307\n",
      "('fixed.acidity', 'volatile.acidity', 'residual.sugar', 'chlorides', 'free.sulfur.dioxide', 'total.sulfur.dioxide', 'pH', 'sulphates') 0.9907692307692307\n",
      "('fixed.acidity', 'volatile.acidity', 'residual.sugar', 'chlorides', 'total.sulfur.dioxide', 'density', 'sulphates', 'quality') 0.9938461538461538\n",
      "('fixed.acidity', 'volatile.acidity', 'residual.sugar', 'chlorides', 'total.sulfur.dioxide', 'density', 'alcohol', 'quality') 0.9917948717948718\n",
      "('fixed.acidity', 'volatile.acidity', 'residual.sugar', 'free.sulfur.dioxide', 'total.sulfur.dioxide', 'density', 'sulphates', 'quality') 0.9907692307692307\n",
      "('fixed.acidity', 'volatile.acidity', 'residual.sugar', 'free.sulfur.dioxide', 'total.sulfur.dioxide', 'density', 'alcohol', 'quality') 0.9928205128205129\n",
      "('fixed.acidity', 'volatile.acidity', 'residual.sugar', 'total.sulfur.dioxide', 'density', 'pH', 'alcohol', 'quality') 0.9928205128205129\n",
      "('fixed.acidity', 'volatile.acidity', 'residual.sugar', 'total.sulfur.dioxide', 'density', 'sulphates', 'alcohol', 'quality') 0.9928205128205129\n",
      "('fixed.acidity', 'volatile.acidity', 'chlorides', 'free.sulfur.dioxide', 'total.sulfur.dioxide', 'density', 'pH', 'sulphates') 0.9907692307692307\n",
      "('fixed.acidity', 'citric.acid', 'residual.sugar', 'chlorides', 'free.sulfur.dioxide', 'total.sulfur.dioxide', 'density', 'sulphates') 0.9928205128205129\n",
      "('fixed.acidity', 'citric.acid', 'residual.sugar', 'chlorides', 'free.sulfur.dioxide', 'total.sulfur.dioxide', 'density', 'alcohol') 0.9948717948717949\n",
      "('fixed.acidity', 'citric.acid', 'residual.sugar', 'chlorides', 'total.sulfur.dioxide', 'density', 'alcohol', 'quality') 0.9948717948717949\n",
      "('fixed.acidity', 'citric.acid', 'residual.sugar', 'chlorides', 'density', 'pH', 'alcohol', 'quality') 0.9907692307692307\n",
      "('fixed.acidity', 'citric.acid', 'residual.sugar', 'free.sulfur.dioxide', 'total.sulfur.dioxide', 'density', 'pH', 'alcohol') 0.9938461538461538\n",
      "('fixed.acidity', 'citric.acid', 'residual.sugar', 'free.sulfur.dioxide', 'total.sulfur.dioxide', 'density', 'sulphates', 'alcohol') 0.9948717948717949\n",
      "('fixed.acidity', 'citric.acid', 'residual.sugar', 'free.sulfur.dioxide', 'total.sulfur.dioxide', 'density', 'sulphates', 'quality') 0.9907692307692307\n",
      "('fixed.acidity', 'citric.acid', 'residual.sugar', 'free.sulfur.dioxide', 'total.sulfur.dioxide', 'density', 'alcohol', 'quality') 0.9948717948717949\n",
      "('fixed.acidity', 'citric.acid', 'residual.sugar', 'total.sulfur.dioxide', 'density', 'pH', 'sulphates', 'alcohol') 0.9938461538461538\n",
      "('fixed.acidity', 'citric.acid', 'residual.sugar', 'total.sulfur.dioxide', 'density', 'pH', 'alcohol', 'quality') 0.9938461538461538\n",
      "('fixed.acidity', 'citric.acid', 'residual.sugar', 'total.sulfur.dioxide', 'density', 'sulphates', 'alcohol', 'quality') 0.9948717948717949\n",
      "('fixed.acidity', 'residual.sugar', 'chlorides', 'free.sulfur.dioxide', 'total.sulfur.dioxide', 'density', 'pH', 'sulphates') 0.9917948717948718\n",
      "('fixed.acidity', 'residual.sugar', 'chlorides', 'free.sulfur.dioxide', 'total.sulfur.dioxide', 'density', 'pH', 'alcohol') 0.9948717948717949\n",
      "('fixed.acidity', 'residual.sugar', 'chlorides', 'free.sulfur.dioxide', 'total.sulfur.dioxide', 'density', 'sulphates', 'alcohol') 0.9948717948717949\n",
      "('fixed.acidity', 'residual.sugar', 'chlorides', 'free.sulfur.dioxide', 'total.sulfur.dioxide', 'density', 'sulphates', 'quality') 0.9917948717948718\n",
      "('fixed.acidity', 'residual.sugar', 'chlorides', 'total.sulfur.dioxide', 'density', 'sulphates', 'alcohol', 'quality') 0.9938461538461538\n",
      "('fixed.acidity', 'residual.sugar', 'free.sulfur.dioxide', 'total.sulfur.dioxide', 'density', 'pH', 'sulphates', 'alcohol') 0.9938461538461538\n",
      "('fixed.acidity', 'residual.sugar', 'free.sulfur.dioxide', 'total.sulfur.dioxide', 'density', 'pH', 'alcohol', 'quality') 0.9948717948717949\n",
      "('fixed.acidity', 'residual.sugar', 'free.sulfur.dioxide', 'total.sulfur.dioxide', 'density', 'sulphates', 'alcohol', 'quality') 0.9938461538461538\n",
      "('volatile.acidity', 'citric.acid', 'residual.sugar', 'chlorides', 'free.sulfur.dioxide', 'total.sulfur.dioxide', 'density', 'sulphates') 0.9917948717948718\n",
      "('volatile.acidity', 'citric.acid', 'residual.sugar', 'chlorides', 'free.sulfur.dioxide', 'total.sulfur.dioxide', 'density', 'alcohol') 0.9917948717948718\n",
      "('volatile.acidity', 'citric.acid', 'residual.sugar', 'chlorides', 'free.sulfur.dioxide', 'density', 'pH', 'alcohol') 0.9907692307692307\n",
      "('volatile.acidity', 'citric.acid', 'residual.sugar', 'chlorides', 'free.sulfur.dioxide', 'density', 'sulphates', 'alcohol') 0.9907692307692307\n",
      "('volatile.acidity', 'citric.acid', 'residual.sugar', 'chlorides', 'total.sulfur.dioxide', 'density', 'pH', 'alcohol') 0.9917948717948718\n",
      "('volatile.acidity', 'citric.acid', 'residual.sugar', 'chlorides', 'total.sulfur.dioxide', 'density', 'pH', 'quality') 0.9907692307692307\n",
      "('volatile.acidity', 'citric.acid', 'residual.sugar', 'chlorides', 'total.sulfur.dioxide', 'density', 'sulphates', 'quality') 0.9938461538461538\n",
      "('volatile.acidity', 'citric.acid', 'residual.sugar', 'chlorides', 'total.sulfur.dioxide', 'density', 'alcohol', 'quality') 0.9928205128205129\n",
      "('volatile.acidity', 'citric.acid', 'residual.sugar', 'chlorides', 'density', 'pH', 'sulphates', 'alcohol') 0.9907692307692307\n",
      "('volatile.acidity', 'citric.acid', 'residual.sugar', 'chlorides', 'density', 'pH', 'alcohol', 'quality') 0.9917948717948718\n",
      "('volatile.acidity', 'citric.acid', 'residual.sugar', 'chlorides', 'density', 'sulphates', 'alcohol', 'quality') 0.9917948717948718\n",
      "('volatile.acidity', 'citric.acid', 'residual.sugar', 'free.sulfur.dioxide', 'total.sulfur.dioxide', 'density', 'pH', 'alcohol') 0.9928205128205129\n",
      "('volatile.acidity', 'citric.acid', 'residual.sugar', 'free.sulfur.dioxide', 'total.sulfur.dioxide', 'density', 'sulphates', 'alcohol') 0.9928205128205129\n",
      "('volatile.acidity', 'citric.acid', 'residual.sugar', 'free.sulfur.dioxide', 'total.sulfur.dioxide', 'density', 'sulphates', 'quality') 0.9907692307692307\n",
      "('volatile.acidity', 'citric.acid', 'residual.sugar', 'free.sulfur.dioxide', 'total.sulfur.dioxide', 'density', 'alcohol', 'quality') 0.9928205128205129\n",
      "('volatile.acidity', 'citric.acid', 'residual.sugar', 'total.sulfur.dioxide', 'density', 'pH', 'sulphates', 'quality') 0.9907692307692307\n",
      "('volatile.acidity', 'citric.acid', 'residual.sugar', 'total.sulfur.dioxide', 'density', 'sulphates', 'alcohol', 'quality') 0.9928205128205129\n",
      "('volatile.acidity', 'residual.sugar', 'chlorides', 'free.sulfur.dioxide', 'total.sulfur.dioxide', 'density', 'pH', 'sulphates') 0.9907692307692307\n",
      "('volatile.acidity', 'residual.sugar', 'chlorides', 'free.sulfur.dioxide', 'total.sulfur.dioxide', 'density', 'pH', 'alcohol') 0.9917948717948718\n",
      "('volatile.acidity', 'residual.sugar', 'chlorides', 'free.sulfur.dioxide', 'total.sulfur.dioxide', 'density', 'pH', 'quality') 0.9907692307692307\n",
      "('volatile.acidity', 'residual.sugar', 'chlorides', 'free.sulfur.dioxide', 'total.sulfur.dioxide', 'density', 'sulphates', 'alcohol') 0.9938461538461538\n",
      "('volatile.acidity', 'residual.sugar', 'chlorides', 'free.sulfur.dioxide', 'total.sulfur.dioxide', 'density', 'sulphates', 'quality') 0.9907692307692307\n",
      "('volatile.acidity', 'residual.sugar', 'chlorides', 'total.sulfur.dioxide', 'density', 'pH', 'sulphates', 'alcohol') 0.9928205128205129\n",
      "('volatile.acidity', 'residual.sugar', 'chlorides', 'total.sulfur.dioxide', 'density', 'pH', 'sulphates', 'quality') 0.9928205128205129\n"
     ]
    },
    {
     "name": "stdout",
     "output_type": "stream",
     "text": [
      "('volatile.acidity', 'residual.sugar', 'chlorides', 'total.sulfur.dioxide', 'density', 'pH', 'alcohol', 'quality') 0.9928205128205129\n",
      "('volatile.acidity', 'residual.sugar', 'chlorides', 'total.sulfur.dioxide', 'density', 'sulphates', 'alcohol', 'quality') 0.9938461538461538\n",
      "('volatile.acidity', 'residual.sugar', 'free.sulfur.dioxide', 'total.sulfur.dioxide', 'density', 'pH', 'sulphates', 'alcohol') 0.9917948717948718\n",
      "('volatile.acidity', 'residual.sugar', 'free.sulfur.dioxide', 'total.sulfur.dioxide', 'density', 'pH', 'alcohol', 'quality') 0.9907692307692307\n",
      "('volatile.acidity', 'residual.sugar', 'free.sulfur.dioxide', 'total.sulfur.dioxide', 'density', 'sulphates', 'alcohol', 'quality') 0.9938461538461538\n",
      "('volatile.acidity', 'residual.sugar', 'total.sulfur.dioxide', 'density', 'pH', 'sulphates', 'alcohol', 'quality') 0.9928205128205129\n",
      "('citric.acid', 'residual.sugar', 'chlorides', 'free.sulfur.dioxide', 'total.sulfur.dioxide', 'density', 'pH', 'sulphates') 0.9928205128205129\n",
      "('citric.acid', 'residual.sugar', 'chlorides', 'free.sulfur.dioxide', 'total.sulfur.dioxide', 'density', 'pH', 'alcohol') 0.9948717948717949\n",
      "('citric.acid', 'residual.sugar', 'chlorides', 'free.sulfur.dioxide', 'total.sulfur.dioxide', 'density', 'sulphates', 'alcohol') 0.9948717948717949\n",
      "('citric.acid', 'residual.sugar', 'chlorides', 'free.sulfur.dioxide', 'total.sulfur.dioxide', 'density', 'sulphates', 'quality') 0.9938461538461538\n",
      "('citric.acid', 'residual.sugar', 'chlorides', 'free.sulfur.dioxide', 'total.sulfur.dioxide', 'density', 'alcohol', 'quality') 0.9948717948717949\n",
      "('citric.acid', 'residual.sugar', 'chlorides', 'free.sulfur.dioxide', 'density', 'pH', 'alcohol', 'quality') 0.9907692307692307\n",
      "('citric.acid', 'residual.sugar', 'chlorides', 'total.sulfur.dioxide', 'density', 'pH', 'sulphates', 'alcohol') 0.9958974358974358\n",
      "('citric.acid', 'residual.sugar', 'chlorides', 'total.sulfur.dioxide', 'density', 'pH', 'sulphates', 'quality') 0.9938461538461538\n",
      "('citric.acid', 'residual.sugar', 'chlorides', 'total.sulfur.dioxide', 'density', 'pH', 'alcohol', 'quality') 0.9948717948717949\n",
      "('citric.acid', 'residual.sugar', 'chlorides', 'total.sulfur.dioxide', 'density', 'sulphates', 'alcohol', 'quality') 0.9958974358974358\n",
      "('citric.acid', 'residual.sugar', 'free.sulfur.dioxide', 'total.sulfur.dioxide', 'density', 'pH', 'sulphates', 'alcohol') 0.9948717948717949\n",
      "('citric.acid', 'residual.sugar', 'free.sulfur.dioxide', 'total.sulfur.dioxide', 'density', 'pH', 'sulphates', 'quality') 0.9907692307692307\n",
      "('citric.acid', 'residual.sugar', 'free.sulfur.dioxide', 'total.sulfur.dioxide', 'density', 'pH', 'alcohol', 'quality') 0.9938461538461538\n",
      "('citric.acid', 'residual.sugar', 'free.sulfur.dioxide', 'total.sulfur.dioxide', 'density', 'sulphates', 'alcohol', 'quality') 0.9948717948717949\n",
      "('citric.acid', 'residual.sugar', 'total.sulfur.dioxide', 'density', 'pH', 'sulphates', 'alcohol', 'quality') 0.9948717948717949\n",
      "('residual.sugar', 'chlorides', 'free.sulfur.dioxide', 'total.sulfur.dioxide', 'density', 'pH', 'sulphates', 'alcohol') 0.9928205128205129\n",
      "('residual.sugar', 'chlorides', 'free.sulfur.dioxide', 'total.sulfur.dioxide', 'density', 'pH', 'sulphates', 'quality') 0.9917948717948718\n",
      "('residual.sugar', 'chlorides', 'total.sulfur.dioxide', 'density', 'pH', 'sulphates', 'alcohol', 'quality') 0.9928205128205129\n",
      "('residual.sugar', 'free.sulfur.dioxide', 'total.sulfur.dioxide', 'density', 'pH', 'sulphates', 'alcohol', 'quality') 0.9917948717948718\n",
      "('fixed.acidity', 'volatile.acidity', 'citric.acid', 'residual.sugar', 'chlorides', 'free.sulfur.dioxide', 'total.sulfur.dioxide', 'density', 'sulphates') 0.9917948717948718\n",
      "('fixed.acidity', 'volatile.acidity', 'citric.acid', 'residual.sugar', 'chlorides', 'free.sulfur.dioxide', 'total.sulfur.dioxide', 'density', 'alcohol') 0.9917948717948718\n",
      "('fixed.acidity', 'volatile.acidity', 'citric.acid', 'residual.sugar', 'chlorides', 'free.sulfur.dioxide', 'total.sulfur.dioxide', 'pH', 'sulphates') 0.9907692307692307\n",
      "('fixed.acidity', 'volatile.acidity', 'citric.acid', 'residual.sugar', 'chlorides', 'free.sulfur.dioxide', 'density', 'pH', 'alcohol') 0.9917948717948718\n",
      "('fixed.acidity', 'volatile.acidity', 'citric.acid', 'residual.sugar', 'chlorides', 'free.sulfur.dioxide', 'density', 'sulphates', 'alcohol') 0.9907692307692307\n",
      "('fixed.acidity', 'volatile.acidity', 'citric.acid', 'residual.sugar', 'chlorides', 'free.sulfur.dioxide', 'density', 'alcohol', 'quality') 0.9907692307692307\n",
      "('fixed.acidity', 'volatile.acidity', 'citric.acid', 'residual.sugar', 'chlorides', 'total.sulfur.dioxide', 'density', 'sulphates', 'quality') 0.9938461538461538\n",
      "('fixed.acidity', 'volatile.acidity', 'citric.acid', 'residual.sugar', 'chlorides', 'total.sulfur.dioxide', 'density', 'alcohol', 'quality') 0.9928205128205129\n",
      "('fixed.acidity', 'volatile.acidity', 'citric.acid', 'residual.sugar', 'chlorides', 'density', 'pH', 'sulphates', 'alcohol') 0.9917948717948718\n",
      "('fixed.acidity', 'volatile.acidity', 'citric.acid', 'residual.sugar', 'chlorides', 'density', 'pH', 'alcohol', 'quality') 0.9917948717948718\n",
      "('fixed.acidity', 'volatile.acidity', 'citric.acid', 'residual.sugar', 'chlorides', 'density', 'sulphates', 'alcohol', 'quality') 0.9917948717948718\n",
      "('fixed.acidity', 'volatile.acidity', 'citric.acid', 'residual.sugar', 'free.sulfur.dioxide', 'total.sulfur.dioxide', 'density', 'pH', 'alcohol') 0.9928205128205129\n",
      "('fixed.acidity', 'volatile.acidity', 'citric.acid', 'residual.sugar', 'free.sulfur.dioxide', 'total.sulfur.dioxide', 'density', 'sulphates', 'quality') 0.9907692307692307\n",
      "('fixed.acidity', 'volatile.acidity', 'citric.acid', 'residual.sugar', 'free.sulfur.dioxide', 'total.sulfur.dioxide', 'density', 'alcohol', 'quality') 0.9928205128205129\n",
      "('fixed.acidity', 'volatile.acidity', 'citric.acid', 'residual.sugar', 'total.sulfur.dioxide', 'density', 'pH', 'sulphates', 'alcohol') 0.9928205128205129\n",
      "('fixed.acidity', 'volatile.acidity', 'citric.acid', 'residual.sugar', 'total.sulfur.dioxide', 'density', 'pH', 'alcohol', 'quality') 0.9928205128205129\n",
      "('fixed.acidity', 'volatile.acidity', 'citric.acid', 'residual.sugar', 'density', 'pH', 'sulphates', 'alcohol', 'quality') 0.9917948717948718\n",
      "('fixed.acidity', 'volatile.acidity', 'residual.sugar', 'chlorides', 'free.sulfur.dioxide', 'total.sulfur.dioxide', 'density', 'pH', 'sulphates') 0.9907692307692307\n",
      "('fixed.acidity', 'volatile.acidity', 'residual.sugar', 'chlorides', 'free.sulfur.dioxide', 'total.sulfur.dioxide', 'density', 'sulphates', 'alcohol') 0.9928205128205129\n",
      "('fixed.acidity', 'volatile.acidity', 'residual.sugar', 'chlorides', 'free.sulfur.dioxide', 'total.sulfur.dioxide', 'density', 'sulphates', 'quality') 0.9907692307692307\n",
      "('fixed.acidity', 'volatile.acidity', 'residual.sugar', 'chlorides', 'free.sulfur.dioxide', 'total.sulfur.dioxide', 'density', 'alcohol', 'quality') 0.9928205128205129\n",
      "('fixed.acidity', 'volatile.acidity', 'residual.sugar', 'chlorides', 'total.sulfur.dioxide', 'density', 'pH', 'sulphates', 'quality') 0.9928205128205129\n",
      "('fixed.acidity', 'volatile.acidity', 'residual.sugar', 'chlorides', 'total.sulfur.dioxide', 'density', 'pH', 'alcohol', 'quality') 0.9917948717948718\n",
      "('fixed.acidity', 'volatile.acidity', 'residual.sugar', 'chlorides', 'total.sulfur.dioxide', 'density', 'sulphates', 'alcohol', 'quality') 0.9938461538461538\n",
      "('fixed.acidity', 'volatile.acidity', 'residual.sugar', 'free.sulfur.dioxide', 'total.sulfur.dioxide', 'density', 'pH', 'alcohol', 'quality') 0.9917948717948718\n",
      "('fixed.acidity', 'citric.acid', 'residual.sugar', 'chlorides', 'free.sulfur.dioxide', 'total.sulfur.dioxide', 'density', 'pH', 'alcohol') 0.9948717948717949\n",
      "('fixed.acidity', 'citric.acid', 'residual.sugar', 'chlorides', 'free.sulfur.dioxide', 'total.sulfur.dioxide', 'density', 'sulphates', 'alcohol') 0.9948717948717949\n",
      "('fixed.acidity', 'citric.acid', 'residual.sugar', 'chlorides', 'free.sulfur.dioxide', 'total.sulfur.dioxide', 'density', 'alcohol', 'quality') 0.9948717948717949\n",
      "('fixed.acidity', 'citric.acid', 'residual.sugar', 'chlorides', 'free.sulfur.dioxide', 'density', 'pH', 'alcohol', 'quality') 0.9907692307692307\n",
      "('fixed.acidity', 'citric.acid', 'residual.sugar', 'chlorides', 'total.sulfur.dioxide', 'density', 'sulphates', 'alcohol', 'quality') 0.9948717948717949\n"
     ]
    },
    {
     "name": "stdout",
     "output_type": "stream",
     "text": [
      "('fixed.acidity', 'citric.acid', 'residual.sugar', 'chlorides', 'density', 'pH', 'sulphates', 'alcohol', 'quality') 0.9907692307692307\n",
      "('fixed.acidity', 'citric.acid', 'residual.sugar', 'free.sulfur.dioxide', 'total.sulfur.dioxide', 'density', 'pH', 'sulphates', 'quality') 0.9907692307692307\n",
      "('fixed.acidity', 'citric.acid', 'residual.sugar', 'free.sulfur.dioxide', 'total.sulfur.dioxide', 'density', 'sulphates', 'alcohol', 'quality') 0.9948717948717949\n",
      "('fixed.acidity', 'citric.acid', 'residual.sugar', 'total.sulfur.dioxide', 'density', 'pH', 'sulphates', 'alcohol', 'quality') 0.9958974358974358\n",
      "('fixed.acidity', 'residual.sugar', 'chlorides', 'free.sulfur.dioxide', 'total.sulfur.dioxide', 'density', 'pH', 'sulphates', 'quality') 0.9917948717948718\n",
      "('fixed.acidity', 'residual.sugar', 'chlorides', 'free.sulfur.dioxide', 'total.sulfur.dioxide', 'density', 'pH', 'alcohol', 'quality') 0.9948717948717949\n",
      "('fixed.acidity', 'residual.sugar', 'chlorides', 'free.sulfur.dioxide', 'total.sulfur.dioxide', 'density', 'sulphates', 'alcohol', 'quality') 0.9948717948717949\n",
      "('fixed.acidity', 'residual.sugar', 'chlorides', 'total.sulfur.dioxide', 'density', 'pH', 'sulphates', 'alcohol', 'quality') 0.9938461538461538\n",
      "('volatile.acidity', 'citric.acid', 'residual.sugar', 'chlorides', 'free.sulfur.dioxide', 'total.sulfur.dioxide', 'density', 'pH', 'sulphates') 0.9907692307692307\n",
      "('volatile.acidity', 'citric.acid', 'residual.sugar', 'chlorides', 'free.sulfur.dioxide', 'total.sulfur.dioxide', 'density', 'pH', 'quality') 0.9907692307692307\n",
      "('volatile.acidity', 'citric.acid', 'residual.sugar', 'chlorides', 'free.sulfur.dioxide', 'total.sulfur.dioxide', 'density', 'sulphates', 'alcohol') 0.9938461538461538\n",
      "('volatile.acidity', 'citric.acid', 'residual.sugar', 'chlorides', 'free.sulfur.dioxide', 'total.sulfur.dioxide', 'density', 'alcohol', 'quality') 0.9928205128205129\n",
      "('volatile.acidity', 'citric.acid', 'residual.sugar', 'chlorides', 'free.sulfur.dioxide', 'density', 'pH', 'sulphates', 'alcohol') 0.9907692307692307\n",
      "('volatile.acidity', 'citric.acid', 'residual.sugar', 'chlorides', 'free.sulfur.dioxide', 'density', 'sulphates', 'alcohol', 'quality') 0.9907692307692307\n",
      "('volatile.acidity', 'citric.acid', 'residual.sugar', 'chlorides', 'total.sulfur.dioxide', 'density', 'pH', 'sulphates', 'alcohol') 0.9928205128205129\n",
      "('volatile.acidity', 'citric.acid', 'residual.sugar', 'chlorides', 'total.sulfur.dioxide', 'density', 'pH', 'sulphates', 'quality') 0.9928205128205129\n",
      "('volatile.acidity', 'citric.acid', 'residual.sugar', 'chlorides', 'total.sulfur.dioxide', 'density', 'pH', 'alcohol', 'quality') 0.9928205128205129\n",
      "('volatile.acidity', 'citric.acid', 'residual.sugar', 'chlorides', 'total.sulfur.dioxide', 'density', 'sulphates', 'alcohol', 'quality') 0.9938461538461538\n",
      "('volatile.acidity', 'citric.acid', 'residual.sugar', 'chlorides', 'density', 'pH', 'sulphates', 'alcohol', 'quality') 0.9907692307692307\n",
      "('volatile.acidity', 'citric.acid', 'residual.sugar', 'free.sulfur.dioxide', 'total.sulfur.dioxide', 'density', 'pH', 'sulphates', 'alcohol') 0.9928205128205129\n",
      "('volatile.acidity', 'citric.acid', 'residual.sugar', 'free.sulfur.dioxide', 'total.sulfur.dioxide', 'density', 'sulphates', 'alcohol', 'quality') 0.9938461538461538\n",
      "('volatile.acidity', 'citric.acid', 'residual.sugar', 'total.sulfur.dioxide', 'density', 'pH', 'sulphates', 'alcohol', 'quality') 0.9928205128205129\n",
      "('volatile.acidity', 'residual.sugar', 'chlorides', 'free.sulfur.dioxide', 'total.sulfur.dioxide', 'density', 'pH', 'sulphates', 'alcohol') 0.9928205128205129\n",
      "('volatile.acidity', 'residual.sugar', 'chlorides', 'free.sulfur.dioxide', 'total.sulfur.dioxide', 'density', 'pH', 'sulphates', 'quality') 0.9907692307692307\n",
      "('volatile.acidity', 'residual.sugar', 'chlorides', 'free.sulfur.dioxide', 'total.sulfur.dioxide', 'density', 'pH', 'alcohol', 'quality') 0.9928205128205129\n",
      "('volatile.acidity', 'residual.sugar', 'chlorides', 'free.sulfur.dioxide', 'total.sulfur.dioxide', 'density', 'sulphates', 'alcohol', 'quality') 0.9948717948717949\n",
      "('volatile.acidity', 'residual.sugar', 'free.sulfur.dioxide', 'total.sulfur.dioxide', 'density', 'pH', 'sulphates', 'alcohol', 'quality') 0.9938461538461538\n",
      "('citric.acid', 'residual.sugar', 'chlorides', 'free.sulfur.dioxide', 'total.sulfur.dioxide', 'density', 'pH', 'sulphates', 'alcohol') 0.9948717948717949\n",
      "('citric.acid', 'residual.sugar', 'chlorides', 'free.sulfur.dioxide', 'total.sulfur.dioxide', 'density', 'pH', 'sulphates', 'quality') 0.9938461538461538\n",
      "('citric.acid', 'residual.sugar', 'chlorides', 'free.sulfur.dioxide', 'total.sulfur.dioxide', 'density', 'sulphates', 'alcohol', 'quality') 0.9948717948717949\n",
      "('citric.acid', 'residual.sugar', 'chlorides', 'free.sulfur.dioxide', 'density', 'pH', 'sulphates', 'alcohol', 'quality') 0.9907692307692307\n",
      "('citric.acid', 'residual.sugar', 'chlorides', 'total.sulfur.dioxide', 'density', 'pH', 'sulphates', 'alcohol', 'quality') 0.9958974358974358\n",
      "('citric.acid', 'residual.sugar', 'free.sulfur.dioxide', 'total.sulfur.dioxide', 'density', 'pH', 'sulphates', 'alcohol', 'quality') 0.9948717948717949\n",
      "('residual.sugar', 'chlorides', 'free.sulfur.dioxide', 'total.sulfur.dioxide', 'density', 'pH', 'sulphates', 'alcohol', 'quality') 0.9928205128205129\n",
      "('fixed.acidity', 'volatile.acidity', 'citric.acid', 'residual.sugar', 'chlorides', 'free.sulfur.dioxide', 'total.sulfur.dioxide', 'density', 'pH', 'sulphates') 0.9907692307692307\n",
      "('fixed.acidity', 'volatile.acidity', 'citric.acid', 'residual.sugar', 'chlorides', 'free.sulfur.dioxide', 'total.sulfur.dioxide', 'density', 'pH', 'alcohol') 0.9928205128205129\n",
      "('fixed.acidity', 'volatile.acidity', 'citric.acid', 'residual.sugar', 'chlorides', 'free.sulfur.dioxide', 'total.sulfur.dioxide', 'density', 'sulphates', 'alcohol') 0.9928205128205129\n",
      "('fixed.acidity', 'volatile.acidity', 'citric.acid', 'residual.sugar', 'chlorides', 'free.sulfur.dioxide', 'total.sulfur.dioxide', 'density', 'sulphates', 'quality') 0.9907692307692307\n",
      "('fixed.acidity', 'volatile.acidity', 'citric.acid', 'residual.sugar', 'chlorides', 'free.sulfur.dioxide', 'total.sulfur.dioxide', 'density', 'alcohol', 'quality') 0.9928205128205129\n",
      "('fixed.acidity', 'volatile.acidity', 'citric.acid', 'residual.sugar', 'chlorides', 'free.sulfur.dioxide', 'density', 'pH', 'sulphates', 'alcohol') 0.9907692307692307\n",
      "('fixed.acidity', 'volatile.acidity', 'citric.acid', 'residual.sugar', 'chlorides', 'free.sulfur.dioxide', 'density', 'pH', 'alcohol', 'quality') 0.9907692307692307\n",
      "('fixed.acidity', 'volatile.acidity', 'citric.acid', 'residual.sugar', 'chlorides', 'free.sulfur.dioxide', 'density', 'sulphates', 'alcohol', 'quality') 0.9907692307692307\n",
      "('fixed.acidity', 'volatile.acidity', 'citric.acid', 'residual.sugar', 'chlorides', 'total.sulfur.dioxide', 'density', 'pH', 'sulphates', 'quality') 0.9928205128205129\n",
      "('fixed.acidity', 'volatile.acidity', 'citric.acid', 'residual.sugar', 'chlorides', 'total.sulfur.dioxide', 'density', 'sulphates', 'alcohol', 'quality') 0.9938461538461538\n",
      "('fixed.acidity', 'volatile.acidity', 'citric.acid', 'residual.sugar', 'chlorides', 'density', 'pH', 'sulphates', 'alcohol', 'quality') 0.9917948717948718\n",
      "('fixed.acidity', 'volatile.acidity', 'citric.acid', 'residual.sugar', 'free.sulfur.dioxide', 'total.sulfur.dioxide', 'density', 'sulphates', 'alcohol', 'quality') 0.9928205128205129\n",
      "('fixed.acidity', 'volatile.acidity', 'citric.acid', 'residual.sugar', 'free.sulfur.dioxide', 'density', 'pH', 'sulphates', 'alcohol', 'quality') 0.9907692307692307\n",
      "('fixed.acidity', 'volatile.acidity', 'residual.sugar', 'chlorides', 'free.sulfur.dioxide', 'total.sulfur.dioxide', 'density', 'pH', 'sulphates', 'quality') 0.9907692307692307\n",
      "('fixed.acidity', 'volatile.acidity', 'residual.sugar', 'chlorides', 'free.sulfur.dioxide', 'total.sulfur.dioxide', 'density', 'pH', 'alcohol', 'quality') 0.9917948717948718\n",
      "('fixed.acidity', 'volatile.acidity', 'residual.sugar', 'free.sulfur.dioxide', 'total.sulfur.dioxide', 'density', 'pH', 'sulphates', 'alcohol', 'quality') 0.9938461538461538\n",
      "('fixed.acidity', 'citric.acid', 'residual.sugar', 'chlorides', 'free.sulfur.dioxide', 'total.sulfur.dioxide', 'density', 'pH', 'sulphates', 'alcohol') 0.9948717948717949\n"
     ]
    },
    {
     "name": "stdout",
     "output_type": "stream",
     "text": [
      "('fixed.acidity', 'citric.acid', 'residual.sugar', 'chlorides', 'free.sulfur.dioxide', 'total.sulfur.dioxide', 'density', 'pH', 'alcohol', 'quality') 0.9948717948717949\n",
      "('fixed.acidity', 'citric.acid', 'residual.sugar', 'chlorides', 'free.sulfur.dioxide', 'total.sulfur.dioxide', 'density', 'sulphates', 'alcohol', 'quality') 0.9948717948717949\n",
      "('fixed.acidity', 'citric.acid', 'residual.sugar', 'chlorides', 'free.sulfur.dioxide', 'density', 'pH', 'sulphates', 'alcohol', 'quality') 0.9917948717948718\n",
      "('fixed.acidity', 'citric.acid', 'residual.sugar', 'chlorides', 'total.sulfur.dioxide', 'density', 'pH', 'sulphates', 'alcohol', 'quality') 0.9958974358974358\n",
      "('fixed.acidity', 'citric.acid', 'residual.sugar', 'free.sulfur.dioxide', 'total.sulfur.dioxide', 'density', 'pH', 'sulphates', 'alcohol', 'quality') 0.9948717948717949\n",
      "('volatile.acidity', 'citric.acid', 'residual.sugar', 'chlorides', 'free.sulfur.dioxide', 'total.sulfur.dioxide', 'density', 'pH', 'sulphates', 'alcohol') 0.9938461538461538\n",
      "('volatile.acidity', 'citric.acid', 'residual.sugar', 'chlorides', 'free.sulfur.dioxide', 'total.sulfur.dioxide', 'density', 'pH', 'sulphates', 'quality') 0.9917948717948718\n",
      "('volatile.acidity', 'citric.acid', 'residual.sugar', 'chlorides', 'free.sulfur.dioxide', 'total.sulfur.dioxide', 'density', 'pH', 'alcohol', 'quality') 0.9928205128205129\n",
      "('volatile.acidity', 'citric.acid', 'residual.sugar', 'chlorides', 'free.sulfur.dioxide', 'total.sulfur.dioxide', 'density', 'sulphates', 'alcohol', 'quality') 0.9948717948717949\n",
      "('volatile.acidity', 'citric.acid', 'residual.sugar', 'chlorides', 'free.sulfur.dioxide', 'density', 'pH', 'sulphates', 'alcohol', 'quality') 0.9907692307692307\n",
      "('volatile.acidity', 'citric.acid', 'residual.sugar', 'free.sulfur.dioxide', 'total.sulfur.dioxide', 'density', 'pH', 'sulphates', 'alcohol', 'quality') 0.9938461538461538\n",
      "('volatile.acidity', 'residual.sugar', 'chlorides', 'free.sulfur.dioxide', 'total.sulfur.dioxide', 'density', 'pH', 'sulphates', 'alcohol', 'quality') 0.9938461538461538\n",
      "('citric.acid', 'residual.sugar', 'chlorides', 'free.sulfur.dioxide', 'total.sulfur.dioxide', 'density', 'pH', 'sulphates', 'alcohol', 'quality') 0.9948717948717949\n",
      "('fixed.acidity', 'volatile.acidity', 'citric.acid', 'residual.sugar', 'chlorides', 'free.sulfur.dioxide', 'total.sulfur.dioxide', 'density', 'pH', 'alcohol', 'quality') 0.9938461538461538\n",
      "('fixed.acidity', 'volatile.acidity', 'citric.acid', 'residual.sugar', 'chlorides', 'free.sulfur.dioxide', 'density', 'pH', 'sulphates', 'alcohol', 'quality') 0.9907692307692307\n",
      "('fixed.acidity', 'volatile.acidity', 'citric.acid', 'residual.sugar', 'free.sulfur.dioxide', 'total.sulfur.dioxide', 'density', 'pH', 'sulphates', 'alcohol', 'quality') 0.9938461538461538\n",
      "('volatile.acidity', 'citric.acid', 'residual.sugar', 'chlorides', 'free.sulfur.dioxide', 'total.sulfur.dioxide', 'density', 'pH', 'sulphates', 'alcohol', 'quality') 0.9948717948717949\n"
     ]
    }
   ],
   "source": [
    "result = dict()\n",
    "for r in range(1, 13):\n",
    "    for comb in combinations(wine.columns[: -1], r):\n",
    "        X_train, y_train = train[list(comb)].iloc[:, :train.shape[1]-1].values, train[\"wine\"]\n",
    "        X_test, y_test = test[list(comb)].iloc[:, :test.shape[1]-1].values, test[\"wine\"]\n",
    "        LR_grid_search = LogisticRegression(penalty=\"none\", max_iter=1000000).fit(X=X_train, y=y_train)\n",
    "        predict = LR_grid_search.predict(X_test)\n",
    "        precision = sum(predict == y_test) / len(y_test)\n",
    "        if precision >= 0.99:\n",
    "            print(comb, precision)\n",
    "            result[comb] = precision"
   ]
  },
  {
   "cell_type": "code",
   "execution_count": 20,
   "id": "577a495f",
   "metadata": {
    "ExecuteTime": {
     "end_time": "2022-06-05T06:46:07.548044Z",
     "start_time": "2022-06-05T06:46:07.540043Z"
    },
    "scrolled": false
   },
   "outputs": [
    {
     "data": {
      "text/plain": [
       "('volatile.acidity',\n",
       " 'residual.sugar',\n",
       " 'total.sulfur.dioxide',\n",
       " 'density',\n",
       " 'sulphates',\n",
       " 'quality')"
      ]
     },
     "execution_count": 20,
     "metadata": {},
     "output_type": "execute_result"
    }
   ],
   "source": [
    "max(result)"
   ]
  },
  {
   "cell_type": "code",
   "execution_count": 22,
   "id": "0e4c7716",
   "metadata": {
    "ExecuteTime": {
     "end_time": "2022-06-05T06:46:26.060536Z",
     "start_time": "2022-06-05T06:46:26.049036Z"
    }
   },
   "outputs": [
    {
     "data": {
      "text/plain": [
       "0.9958974358974358"
      ]
     },
     "execution_count": 22,
     "metadata": {},
     "output_type": "execute_result"
    }
   ],
   "source": [
    "max(result.values())"
   ]
  },
  {
   "cell_type": "code",
   "execution_count": 47,
   "id": "23a7f15f",
   "metadata": {
    "ExecuteTime": {
     "end_time": "2022-06-05T07:43:37.887083Z",
     "start_time": "2022-06-05T07:43:37.877583Z"
    }
   },
   "outputs": [
    {
     "data": {
      "text/plain": [
       "('fixed.acidity',\n",
       " 'citric.acid',\n",
       " 'residual.sugar',\n",
       " 'total.sulfur.dioxide',\n",
       " 'density')"
      ]
     },
     "execution_count": 47,
     "metadata": {},
     "output_type": "execute_result"
    }
   ],
   "source": [
    "result = pd.Series(result)\n",
    "result.sort_values(ascending=False).index[0]"
   ]
  },
  {
   "cell_type": "code",
   "execution_count": null,
   "id": "fd9fd340",
   "metadata": {},
   "outputs": [],
   "source": []
  }
 ],
 "metadata": {
  "kernelspec": {
   "display_name": "Python 3 (ipykernel)",
   "language": "python",
   "name": "python3"
  },
  "language_info": {
   "codemirror_mode": {
    "name": "ipython",
    "version": 3
   },
   "file_extension": ".py",
   "mimetype": "text/x-python",
   "name": "python",
   "nbconvert_exporter": "python",
   "pygments_lexer": "ipython3",
   "version": "3.9.12"
  },
  "toc": {
   "base_numbering": 1,
   "nav_menu": {},
   "number_sections": false,
   "sideBar": true,
   "skip_h1_title": true,
   "title_cell": "Table of Contents",
   "title_sidebar": "Contents",
   "toc_cell": false,
   "toc_position": {},
   "toc_section_display": true,
   "toc_window_display": false
  }
 },
 "nbformat": 4,
 "nbformat_minor": 5
}
